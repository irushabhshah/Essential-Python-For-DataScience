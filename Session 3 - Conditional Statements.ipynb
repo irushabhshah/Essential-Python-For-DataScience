{
 "cells": [
  {
   "cell_type": "code",
   "execution_count": null,
   "metadata": {},
   "outputs": [],
   "source": [
    "Mutable :\n",
    "    list \n",
    "    dict\n",
    "    set \n",
    "\n",
    "Immutbale:\n",
    "    str\n",
    "    int \n",
    "    float \n",
    "    tuple\n",
    "    bool"
   ]
  },
  {
   "cell_type": "code",
   "execution_count": null,
   "metadata": {},
   "outputs": [],
   "source": [
    "id()\n",
    "type()"
   ]
  },
  {
   "cell_type": "code",
   "execution_count": null,
   "metadata": {},
   "outputs": [],
   "source": [
    "True/False:\n",
    "    comparison ==,!=,<,>,<=,>= \n",
    "    logical : and or not  \n",
    "    memebrship: in not in \n",
    "    identity : is is not \n",
    "        \n",
    "/ : True div with dec\n",
    "// : int part of div \n",
    "    \n",
    "= and == \n",
    "\n",
    "5 in 500 => error\n"
   ]
  },
  {
   "cell_type": "code",
   "execution_count": null,
   "metadata": {},
   "outputs": [],
   "source": [
    "Iterable :\n",
    "    str\n",
    "    list \n",
    "    tuple \n",
    "    dict \n",
    "    set "
   ]
  },
  {
   "cell_type": "code",
   "execution_count": null,
   "metadata": {},
   "outputs": [],
   "source": [
    "Conditional statements:\n",
    "    \n",
    "    if elif else "
   ]
  },
  {
   "cell_type": "code",
   "execution_count": 3,
   "metadata": {},
   "outputs": [
    {
     "name": "stdout",
     "output_type": "stream",
     "text": [
      "20.0\n",
      "Fail\n"
     ]
    }
   ],
   "source": [
    "total_marks = 500\n",
    "marks_scored = 100 \n",
    "passing_per = 35 \n",
    "per = (marks_scored / total_marks)*100\n",
    "print(per)\n",
    "\n",
    "if per > passing_per:\n",
    "    print(\"Pass\")\n",
    "else:\n",
    "    print(\"Fail\")"
   ]
  },
  {
   "cell_type": "code",
   "execution_count": null,
   "metadata": {},
   "outputs": [],
   "source": [
    "if [condition]:\n",
    "    statement1\n",
    "    statement2\n",
    "    statement3\n",
    "elif [condition]:\n",
    "    statemnts1\n",
    "    statement2\n",
    "else:\n",
    "    statemnts1\n"
   ]
  },
  {
   "cell_type": "code",
   "execution_count": 12,
   "metadata": {},
   "outputs": [
    {
     "name": "stdout",
     "output_type": "stream",
     "text": [
      "num1 in greater than num2\n",
      "Hello\n"
     ]
    }
   ],
   "source": [
    "num1 = 10000\n",
    "num2 = 1000\n",
    "\n",
    "if num1 > num2:\n",
    "    print(\"num1 in greater than num2\")\n",
    "    print(\"Hello\")\n",
    "elif num2 > num1:\n",
    "    print(\"num2 is greater than num1\")\n",
    "else:\n",
    "    print(\"Both the numbers are equal\")"
   ]
  },
  {
   "cell_type": "code",
   "execution_count": null,
   "metadata": {},
   "outputs": [],
   "source": [
    "PEP8"
   ]
  },
  {
   "cell_type": "code",
   "execution_count": null,
   "metadata": {},
   "outputs": [],
   "source": [
    "if num1>num2:\n",
    "    if num1>num2:\n",
    "        if num1>num2:\n",
    "            if num1>num2:\n",
    "                if num1>num2:\n",
    "                      if num1>num2:"
   ]
  },
  {
   "cell_type": "code",
   "execution_count": null,
   "metadata": {},
   "outputs": [],
   "source": [
    "1. CHeck if given num is odd or even\n",
    "   num = 44"
   ]
  },
  {
   "cell_type": "code",
   "execution_count": 17,
   "metadata": {},
   "outputs": [
    {
     "name": "stdout",
     "output_type": "stream",
     "text": [
      "Even\n"
     ]
    }
   ],
   "source": [
    "num = 44\n",
    "if num % 2 == 0:\n",
    "    print(\"Even\")\n",
    "else:\n",
    "    print(\"Odd\")"
   ]
  },
  {
   "cell_type": "code",
   "execution_count": null,
   "metadata": {},
   "outputs": [],
   "source": [
    "char ='b' \n",
    "'a',e,i,o,u => vowel otherwise consonent"
   ]
  },
  {
   "cell_type": "code",
   "execution_count": 19,
   "metadata": {},
   "outputs": [
    {
     "name": "stdout",
     "output_type": "stream",
     "text": [
      "vowel\n"
     ]
    }
   ],
   "source": [
    "char = 'a'\n",
    "if char in ['a','e','i','o','u']:\n",
    "    print(\"vowel\")\n",
    "else:\n",
    "    print(\"consonent\")"
   ]
  },
  {
   "cell_type": "code",
   "execution_count": 21,
   "metadata": {},
   "outputs": [
    {
     "name": "stdout",
     "output_type": "stream",
     "text": [
      "Java\n"
     ]
    }
   ],
   "source": [
    "if []:\n",
    "    print(\"Python\")\n",
    "else:\n",
    "    print(\"Java\")"
   ]
  },
  {
   "cell_type": "code",
   "execution_count": null,
   "metadata": {},
   "outputs": [],
   "source": [
    "zero value 0 \"\" [] () {} None => False \n",
    "Non zero value 45 \"Python\" [10,20,30] ... => True"
   ]
  },
  {
   "cell_type": "code",
   "execution_count": 26,
   "metadata": {},
   "outputs": [
    {
     "name": "stdout",
     "output_type": "stream",
     "text": [
      "List is empty\n"
     ]
    }
   ],
   "source": [
    "nums = []\n",
    "\n",
    "if nums:\n",
    "    print(nums)\n",
    "else:\n",
    "    print(\"List is empty\")"
   ]
  }
 ],
 "metadata": {
  "kernelspec": {
   "display_name": "Python 3",
   "language": "python",
   "name": "python3"
  },
  "language_info": {
   "codemirror_mode": {
    "name": "ipython",
    "version": 3
   },
   "file_extension": ".py",
   "mimetype": "text/x-python",
   "name": "python",
   "nbconvert_exporter": "python",
   "pygments_lexer": "ipython3",
   "version": "3.6.5"
  }
 },
 "nbformat": 4,
 "nbformat_minor": 2
}
