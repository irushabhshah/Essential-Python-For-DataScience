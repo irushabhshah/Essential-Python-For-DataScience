{
 "cells": [
  {
   "cell_type": "code",
   "execution_count": null,
   "metadata": {},
   "outputs": [],
   "source": [
    "\"abc@xyz.com\"==\"abc@xyz.com\""
   ]
  },
  {
   "cell_type": "code",
   "execution_count": null,
   "metadata": {},
   "outputs": [],
   "source": [
    "- Pattern extractions\n",
    "- Pattern Validation "
   ]
  },
  {
   "cell_type": "code",
   "execution_count": 1,
   "metadata": {},
   "outputs": [],
   "source": [
    "import re"
   ]
  },
  {
   "cell_type": "code",
   "execution_count": 3,
   "metadata": {},
   "outputs": [
    {
     "name": "stdout",
     "output_type": "stream",
     "text": [
      "<class '_sre.SRE_Pattern'>\n",
      "['ab', 'ab', 'ab', 'ab', 'ab', 'ab', 'ab', 'ab']\n"
     ]
    }
   ],
   "source": [
    "s = \"ababaabbbbbdbdbddbababababab\"\n",
    "r = re.compile(\"ab\")\n",
    "# print(type(r))\n",
    "l = re.findall(r,s)\n",
    "print(l)"
   ]
  },
  {
   "cell_type": "code",
   "execution_count": 9,
   "metadata": {},
   "outputs": [
    {
     "name": "stdout",
     "output_type": "stream",
     "text": [
      "['a', 'b', 'c', 'd']\n"
     ]
    }
   ],
   "source": [
    "s = \"ABCDabcd1234\"\n",
    "r = re.compile(\"[a-z]\")\n",
    "l = re.findall(r,s)\n",
    "print(l)"
   ]
  },
  {
   "cell_type": "code",
   "execution_count": null,
   "metadata": {},
   "outputs": [],
   "source": [
    "Meta char: \n",
    "    [a-z][A-Z] : char class a or b or c or d..... or z => single occurance \n",
    "    [0-9] : digit class 0 or 1 or 2 ..... or 9  => single occurance\n",
    "        \n",
    "    + : atleast one occ has to be and even if more that fine \n",
    "    * : zero or more num occurances \n",
    "    ^ : start of the string\n",
    "    $ : end of the string \n",
    "        \n",
    "    [a-z]{2,5}\n",
    "    . : match with anything => 1 st occurance\n",
    "        "
   ]
  },
  {
   "cell_type": "code",
   "execution_count": 30,
   "metadata": {},
   "outputs": [
    {
     "name": "stdout",
     "output_type": "stream",
     "text": [
      "[]\n"
     ]
    }
   ],
   "source": [
    "s = \"abcd1234\"\n",
    "r = re.compile(\"[a-z][0-9]\")\n",
    "l = re.findall(r,s)\n",
    "print(l)"
   ]
  },
  {
   "cell_type": "code",
   "execution_count": 48,
   "metadata": {},
   "outputs": [
    {
     "name": "stdout",
     "output_type": "stream",
     "text": [
      "[]\n"
     ]
    }
   ],
   "source": [
    "s = \"1234abcd\"\n",
    "r = re.compile(\"[a-z][a-z][0-9]\")\n",
    "l = re.findall(r,s)\n",
    "print(l)"
   ]
  },
  {
   "cell_type": "code",
   "execution_count": 49,
   "metadata": {},
   "outputs": [
    {
     "name": "stdout",
     "output_type": "stream",
     "text": [
      "[]\n"
     ]
    }
   ],
   "source": [
    "s = \"abcd1234pqr567\"\n",
    "r = re.compile(\"^[a-z]+[0-9]+$\")\n",
    "l = re.findall(r,s)\n",
    "print(l)"
   ]
  },
  {
   "cell_type": "code",
   "execution_count": 50,
   "metadata": {},
   "outputs": [
    {
     "name": "stdout",
     "output_type": "stream",
     "text": [
      "[]\n"
     ]
    }
   ],
   "source": [
    "s = \"abcd1234\"\n",
    "r = re.compile(\"^[a-z]{4}[0-9]$\")\n",
    "l = re.findall(r,s)\n",
    "print(l)"
   ]
  },
  {
   "cell_type": "code",
   "execution_count": null,
   "metadata": {},
   "outputs": [],
   "source": [
    "[a-z]+\n",
    "[0-9]*\n",
    "\n",
    "\n",
    "^[a]{2,5}$"
   ]
  },
  {
   "cell_type": "code",
   "execution_count": 54,
   "metadata": {},
   "outputs": [
    {
     "name": "stdout",
     "output_type": "stream",
     "text": [
      "[]\n"
     ]
    }
   ],
   "source": [
    "s = \"ABCDE1234A1223\"\n",
    "pan_pattern = re.compile(\"^[A-Z]{5}[0-9]{4}[A-Z]$\")\n",
    "l = re.findall(pan_pattern,s)\n",
    "print(l)"
   ]
  },
  {
   "cell_type": "code",
   "execution_count": 61,
   "metadata": {},
   "outputs": [
    {
     "name": "stdout",
     "output_type": "stream",
     "text": [
      "['6123456789', '7123456789']\n"
     ]
    }
   ],
   "source": [
    "s =\"6123456789 hi hello python 7123456789\"\n",
    "phone_pattern = re.compile(\"[6-9]\\d{9}\")\n",
    "l = re.findall(phone_pattern,s)\n",
    "print(l)"
   ]
  },
  {
   "cell_type": "code",
   "execution_count": 64,
   "metadata": {},
   "outputs": [
    {
     "name": "stdout",
     "output_type": "stream",
     "text": [
      "ABCDE1234A\n"
     ]
    }
   ],
   "source": [
    "s = \"ABCDE1234A\"\n",
    "pan_pattern = re.compile(\"^[A-Z]{5}[0-9]{4}[A-Z]$\")\n",
    "m = re.search(pan_pattern,s)\n",
    "if m:\n",
    "    print(m.group())\n",
    "else:\n",
    "    print(\"Invalid pan number\")"
   ]
  },
  {
   "cell_type": "code",
   "execution_count": 2,
   "metadata": {},
   "outputs": [],
   "source": [
    "import re"
   ]
  },
  {
   "cell_type": "code",
   "execution_count": 13,
   "metadata": {},
   "outputs": [
    {
     "name": "stdout",
     "output_type": "stream",
     "text": [
      "12-12-2020\n"
     ]
    }
   ],
   "source": [
    "d = \"12-12-2020\"\n",
    "r = re.compile(\"^([0-9]{2})-([0-9]{2})-([0-9]{4})$\")\n",
    "m = re.search(r,d)\n",
    "if m:\n",
    "    print(m.group())\n",
    "else:\n",
    "    print(\"Invalid date\")"
   ]
  },
  {
   "cell_type": "code",
   "execution_count": null,
   "metadata": {},
   "outputs": [],
   "source": [
    "1900"
   ]
  },
  {
   "cell_type": "code",
   "execution_count": null,
   "metadata": {},
   "outputs": [],
   "source": [
    "[a-zA-Z] => 1\n",
    "[0-9] => 1\n",
    "^[a-z]$\n",
    "[a-z]{2,5}"
   ]
  },
  {
   "cell_type": "code",
   "execution_count": null,
   "metadata": {},
   "outputs": [],
   "source": [
    "re \n",
    "compile \n",
    "findall => list \n",
    "search => 1st occurance "
   ]
  },
  {
   "cell_type": "code",
   "execution_count": 31,
   "metadata": {},
   "outputs": [
    {
     "name": "stdout",
     "output_type": "stream",
     "text": [
      "r.exe\n",
      "c.exe\n"
     ]
    }
   ],
   "source": [
    "l = [\".txt\",\"r.exe\",\"b.jpg\",'c.exe']\n",
    "r = re.compile(\".+\\.exe\")\n",
    "for value in l:\n",
    "    m = re.search(r,value) \n",
    "    if m:\n",
    "        print(m.group())"
   ]
  },
  {
   "cell_type": "code",
   "execution_count": 25,
   "metadata": {},
   "outputs": [
    {
     "name": "stdout",
     "output_type": "stream",
     "text": [
      ".\n"
     ]
    }
   ],
   "source": [
    "char = \"abcd.\"\n",
    "r = re.compile(\"\\.\")\n",
    "m = re.search(r,char)\n",
    "if m:\n",
    "    print(m.group())"
   ]
  },
  {
   "cell_type": "code",
   "execution_count": null,
   "metadata": {},
   "outputs": [],
   "source": [
    "?P<name>"
   ]
  },
  {
   "cell_type": "code",
   "execution_count": 44,
   "metadata": {},
   "outputs": [
    {
     "name": "stdout",
     "output_type": "stream",
     "text": [
      "2020\n"
     ]
    }
   ],
   "source": [
    "d = \"12-12-2020\"\n",
    "r = re.compile(\"^(?P<day>\\d{2})-(?P<month>\\d{2})-(?P<year>\\d{4})$\")\n",
    "m = re.search(r,d)\n",
    "if m:\n",
    "    print(m.group(\"year\"))\n",
    "else:\n",
    "    print(\"Invalid date\")"
   ]
  },
  {
   "cell_type": "code",
   "execution_count": null,
   "metadata": {},
   "outputs": [],
   "source": [
    "[a-zA-Z0-9] => \\w\n",
    "[^a-z0-9A-Z] => \\W\n",
    "\n",
    "[0-9] => \\d\n",
    "[^0-9] => \\D\n",
    "\n",
    "space => \\s\n",
    "^sapce => \\S"
   ]
  },
  {
   "cell_type": "code",
   "execution_count": 43,
   "metadata": {},
   "outputs": [
    {
     "name": "stdout",
     "output_type": "stream",
     "text": [
      "abcd\n"
     ]
    }
   ],
   "source": [
    "char = \"abcd1234\"\n",
    "r = re.compile(\"^[^0-9]+\")\n",
    "m = re.search(r,char)\n",
    "if m:\n",
    "    print(m.group())"
   ]
  },
  {
   "cell_type": "code",
   "execution_count": null,
   "metadata": {},
   "outputs": [],
   "source": [
    "^[a-z]\n",
    "\n",
    "[^a-z] => compliment "
   ]
  },
  {
   "cell_type": "code",
   "execution_count": null,
   "metadata": {},
   "outputs": [],
   "source": [
    "Email address validation \n",
    "Url validation \n"
   ]
  },
  {
   "cell_type": "code",
   "execution_count": null,
   "metadata": {},
   "outputs": [],
   "source": [
    "file 1:\n",
    "    \n",
    "    PEP 550: Python Runtime Audit Hooks\n",
    "The PEP adds an Audit Hook and Verified Open Hook. Both are available from Python and native code, allowing applications and frameworks written in pure Python code to take advantage of extra notifications, while also allowing embedders or system administrators to deploy builds of Python where auditing is always enabled.\n",
    "\n",
    "See PEP 578 for full details."
   ]
  },
  {
   "cell_type": "code",
   "execution_count": null,
   "metadata": {},
   "outputs": [],
   "source": [
    "file 2\n",
    "PEP 587: Python Initialization Configuration\n",
    "The PEP 587 adds a new C API to configure the Python Initialization providing finer control on the whole configuration and better error reporting.\n",
    "\n",
    "New structures:\n",
    "\n",
    "PyConfig\n",
    "\n",
    "PyPreConfig\n",
    "\n",
    "PyStatus\n",
    "\n",
    "PyWideStringList"
   ]
  }
 ],
 "metadata": {
  "kernelspec": {
   "display_name": "Python 3",
   "language": "python",
   "name": "python3"
  },
  "language_info": {
   "codemirror_mode": {
    "name": "ipython",
    "version": 3
   },
   "file_extension": ".py",
   "mimetype": "text/x-python",
   "name": "python",
   "nbconvert_exporter": "python",
   "pygments_lexer": "ipython3",
   "version": "3.6.5"
  }
 },
 "nbformat": 4,
 "nbformat_minor": 2
}
