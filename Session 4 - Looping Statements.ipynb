{
 "cells": [
  {
   "cell_type": "code",
   "execution_count": null,
   "metadata": {},
   "outputs": [],
   "source": [
    "zero values : None \"\" [] {} () => False\n",
    "non zero values : [10,20,30],\"Python\" => True"
   ]
  },
  {
   "cell_type": "code",
   "execution_count": null,
   "metadata": {},
   "outputs": [],
   "source": [
    "if [condition]:\n",
    "    statemnts\n",
    "elif [condition]:\n",
    "    statemnts\n",
    "elif [condition]:\n",
    "    \n",
    "else:\n",
    "    statemnts\n",
    "    "
   ]
  },
  {
   "cell_type": "code",
   "execution_count": null,
   "metadata": {},
   "outputs": [],
   "source": [
    "Looping statements:\n",
    "    For \n",
    "    While "
   ]
  },
  {
   "cell_type": "code",
   "execution_count": 6,
   "metadata": {},
   "outputs": [],
   "source": [
    "total_marks = 500\n",
    "passing_per  = 35 \n",
    "marks_scored = [300,250,450,497,500]\n",
    "# marks_scored = 300\n",
    "# per = (marks_scored / total_marks)*100\n",
    "# if per > passing_per:\n",
    "#     print(\"Pass\")\n",
    "# else:\n",
    "#     print(\"Fail\")"
   ]
  },
  {
   "cell_type": "code",
   "execution_count": null,
   "metadata": {},
   "outputs": [],
   "source": [
    "for [user_defined_var] in [iterable_datatype]:\n",
    "    statements"
   ]
  },
  {
   "cell_type": "code",
   "execution_count": 10,
   "metadata": {},
   "outputs": [
    {
     "name": "stdout",
     "output_type": "stream",
     "text": [
      "Pass\n",
      "Pass\n",
      "Pass\n",
      "Pass\n",
      "Pass\n"
     ]
    }
   ],
   "source": [
    "for marks in marks_scored:\n",
    "#     print(marks)\n",
    "    per = (marks / total_marks)*100\n",
    "    if per > 35:\n",
    "        print(\"Pass\")\n",
    "    else:\n",
    "        print(\"Fail\")\n"
   ]
  },
  {
   "cell_type": "code",
   "execution_count": null,
   "metadata": {},
   "outputs": [],
   "source": [
    "Iteration 1:\n",
    "    marks = 300\n",
    "    per = (300 / 500)*100\n",
    "    \"Pass\"\n",
    "    \n",
    "Iteration 2:\n",
    "    marks = 250\n",
    "    per = (250/500)*100\n",
    "    \"Pass\"\n",
    "    \n",
    "Iteration 3 :\n",
    "    marks = 450\n",
    "    per = 450 / 500 *100"
   ]
  },
  {
   "cell_type": "code",
   "execution_count": null,
   "metadata": {},
   "outputs": [],
   "source": [
    "int a = 0"
   ]
  },
  {
   "cell_type": "code",
   "execution_count": null,
   "metadata": {},
   "outputs": [],
   "source": [
    "a = 100"
   ]
  },
  {
   "cell_type": "code",
   "execution_count": 12,
   "metadata": {},
   "outputs": [
    {
     "name": "stdout",
     "output_type": "stream",
     "text": [
      "150\n"
     ]
    }
   ],
   "source": [
    "nums = [10,20,30,40,50]\n",
    "total = 0\n",
    "for num in nums:\n",
    "#     total = total + num\n",
    "    total += num\n",
    "#     print(total)\n",
    "    \n",
    "print(total)\n",
    "    \n"
   ]
  },
  {
   "cell_type": "code",
   "execution_count": null,
   "metadata": {},
   "outputs": [],
   "source": [
    "num0 = 0\n",
    "num1 = 10\n",
    "num2 = 20\n",
    "num3 = 30"
   ]
  },
  {
   "cell_type": "code",
   "execution_count": null,
   "metadata": {},
   "outputs": [],
   "source": [
    "0 + 10 = 10\n",
    "10 + 20 = 30 => ans\n",
    "30 + 30 ="
   ]
  },
  {
   "cell_type": "code",
   "execution_count": null,
   "metadata": {},
   "outputs": [],
   "source": [
    "45874578455555 + 8744577885445545"
   ]
  },
  {
   "cell_type": "code",
   "execution_count": 20,
   "metadata": {},
   "outputs": [
    {
     "name": "stdout",
     "output_type": "stream",
     "text": [
      "Vowel count is : 7 COnsonent count isL  12\n"
     ]
    }
   ],
   "source": [
    "vowel_count = 0 \n",
    "consonent_count = 0\n",
    "chars = \"Pythoniseasytolearn\"\n",
    "for char in chars:\n",
    "    if char in ['a','e','i','o','u','A','E','I','O','U']:\n",
    "        vowel_count+=1\n",
    "    else:\n",
    "        consonent_count+=1\n",
    "        \n",
    "print(\"Vowel count is :\",vowel_count,\"COnsonent count isL \",consonent_count)"
   ]
  },
  {
   "cell_type": "code",
   "execution_count": null,
   "metadata": {},
   "outputs": [],
   "source": [
    "range(10) : 0 1 2 3 4 5 6 7 8 9\n",
    "range(10,50) : 10 11 12 ......49\n",
    "range(10,50,5) : 10 15 20 25 30 .... 45"
   ]
  },
  {
   "cell_type": "code",
   "execution_count": 23,
   "metadata": {},
   "outputs": [
    {
     "name": "stdout",
     "output_type": "stream",
     "text": [
      "10\n",
      "15\n",
      "20\n",
      "25\n",
      "30\n",
      "35\n",
      "40\n",
      "45\n"
     ]
    }
   ],
   "source": [
    "for value in range(10,50,5):\n",
    "    print(value)"
   ]
  },
  {
   "cell_type": "code",
   "execution_count": null,
   "metadata": {},
   "outputs": [],
   "source": [
    "num= 6 => 1,2,3,6\n",
    "\n",
    "6 % 1 == 0 => yes => div\n",
    "6 % 2 == 0 => yes => div \n",
    "6 % 3 == 0 => yesy => div\n",
    "6 % 4 == 0 => NO \n",
    "6 % 5 == 0 => No \n",
    "6 % 6 == 0 => yesy => Div"
   ]
  },
  {
   "cell_type": "code",
   "execution_count": 24,
   "metadata": {},
   "outputs": [
    {
     "name": "stdout",
     "output_type": "stream",
     "text": [
      "1\n",
      "2\n",
      "3\n",
      "4\n",
      "6\n",
      "8\n",
      "9\n",
      "12\n",
      "18\n",
      "24\n",
      "36\n",
      "72\n"
     ]
    }
   ],
   "source": [
    "num = 72 \n",
    "# print all the divisors \n",
    "for value in range(1,num +1):\n",
    "    if num % value == 0:\n",
    "        print(value)\n",
    "        "
   ]
  },
  {
   "cell_type": "code",
   "execution_count": null,
   "metadata": {},
   "outputs": [],
   "source": [
    "6 => 1,2,3 \n",
    "1+2+3 = 6 \n",
    "if sum of all the div == num itself then given num is a perfect number "
   ]
  },
  {
   "cell_type": "code",
   "execution_count": 30,
   "metadata": {},
   "outputs": [
    {
     "name": "stdout",
     "output_type": "stream",
     "text": [
      "Not a perfect number\n"
     ]
    }
   ],
   "source": [
    "num = 42\n",
    "total = 0\n",
    "for value in range(1,num):\n",
    "    if num % value == 0:\n",
    "        total += value\n",
    "        \n",
    "if total == num:\n",
    "    print(\"Perfect number\")\n",
    "else:\n",
    "    print(\"Not a perfect number\")"
   ]
  },
  {
   "cell_type": "code",
   "execution_count": null,
   "metadata": {},
   "outputs": [],
   "source": [
    "break \n",
    "continue "
   ]
  },
  {
   "cell_type": "code",
   "execution_count": 37,
   "metadata": {},
   "outputs": [
    {
     "name": "stdout",
     "output_type": "stream",
     "text": [
      "Number not found\n"
     ]
    }
   ],
   "source": [
    "nums = [10,20,30,40,50,60,70,80,90]\n",
    "key = 500\n",
    "for num in nums:\n",
    "#     print(num)\n",
    "    if num == key:\n",
    "        print(\"I found the number\")\n",
    "        break\n",
    "else:\n",
    "    print(\"Number not found\")"
   ]
  }
 ],
 "metadata": {
  "kernelspec": {
   "display_name": "Python 3",
   "language": "python",
   "name": "python3"
  },
  "language_info": {
   "codemirror_mode": {
    "name": "ipython",
    "version": 3
   },
   "file_extension": ".py",
   "mimetype": "text/x-python",
   "name": "python",
   "nbconvert_exporter": "python",
   "pygments_lexer": "ipython3",
   "version": "3.6.5"
  }
 },
 "nbformat": 4,
 "nbformat_minor": 2
}
