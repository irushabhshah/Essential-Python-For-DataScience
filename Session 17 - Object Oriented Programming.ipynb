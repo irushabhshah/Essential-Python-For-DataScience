{
 "cells": [
  {
   "cell_type": "code",
   "execution_count": null,
   "metadata": {},
   "outputs": [],
   "source": [
    "Paytm :\n",
    "    mob_number\n",
    "    email \n",
    "    password\n",
    "    \n",
    "    Aadhar card \n",
    "    \n",
    "    recharge\n",
    "    send_moeny\n",
    "    pay_bills\n",
    "    shopping \n",
    "    \n",
    "user1\n",
    "user2\n",
    "    "
   ]
  },
  {
   "cell_type": "code",
   "execution_count": null,
   "metadata": {},
   "outputs": [],
   "source": [
    "class \n",
    "    data \n",
    "    \n",
    "    functions \n",
    "    \n",
    "objects "
   ]
  },
  {
   "cell_type": "code",
   "execution_count": null,
   "metadata": {},
   "outputs": [],
   "source": [
    "class Paytm:\n",
    "    #data\n",
    "    mob_number\n",
    "    email \n",
    "    password    \n",
    "    Aadhar card \n",
    "    \n",
    "    #functions \n",
    "    recharge\n",
    "    send_moeny\n",
    "    pay_bills\n",
    "    shopping \n",
    "    \n",
    "user1\n",
    "user2\n",
    "user3\n",
    "    "
   ]
  },
  {
   "cell_type": "code",
   "execution_count": null,
   "metadata": {},
   "outputs": [],
   "source": [
    "username\n",
    "name\n",
    "password\n",
    "email\n",
    "contact_number\n",
    "\n",
    "signup\n",
    "login\n",
    "update_profile \n",
    "change_password\n",
    "forgot_password \n",
    "update_contact_number\n",
    "update_name()\n"
   ]
  },
  {
   "cell_type": "code",
   "execution_count": 4,
   "metadata": {},
   "outputs": [
    {
     "name": "stdout",
     "output_type": "stream",
     "text": [
      "<__main__.User object at 0x00000199B52E0E48>\n"
     ]
    }
   ],
   "source": [
    "class User:\n",
    "    pass\n",
    " \n",
    "user1 = User()\n",
    "print(user1)"
   ]
  },
  {
   "cell_type": "code",
   "execution_count": null,
   "metadata": {},
   "outputs": [],
   "source": [
    "Instance variable : every object will have is own copy of this variable"
   ]
  },
  {
   "cell_type": "code",
   "execution_count": 14,
   "metadata": {},
   "outputs": [
    {
     "name": "stdout",
     "output_type": "stream",
     "text": [
      "<__main__.User object at 0x00000199B5297A58>\n",
      "<__main__.User object at 0x00000199B530AF60>\n"
     ]
    }
   ],
   "source": [
    "class User:\n",
    "    def __init__(self,username,password,email):\n",
    "        self.user_name = username\n",
    "        self.password = password\n",
    "        self.email = email\n",
    "        \n",
    "    def update_name(self,name):\n",
    "        self.name = name\n",
    "        return self.name\n",
    "        \n",
    "    def update_contact_number(self,number):\n",
    "        self.contact_number = number\n",
    "        return self.contact_number\n",
    "    \n",
    "    def get_details(self):\n",
    "        return self.user_name,self.password,self.email\n",
    " \n",
    "user1 = User(\"abc\",\"abc@123\",\"abc@xyz.com\")\n",
    "# User(user1,\"abc\",\"abc@123\",\"abc@xyz.com\")\n",
    "print(user1)\n",
    "\n",
    "user2 = User(\"pqr\",\"pqr@123\",\"pqr@xyz.com\")\n",
    "# User(user2,\"pqr\",\"pqr@123\",\"pqr@xyz.com\")\n",
    "print(user2)"
   ]
  },
  {
   "cell_type": "code",
   "execution_count": 12,
   "metadata": {},
   "outputs": [
    {
     "name": "stdout",
     "output_type": "stream",
     "text": [
      "{'user_name': 'abc', 'password': 'abc@123', 'email': 'abc@xyz.com'}\n"
     ]
    }
   ],
   "source": [
    "print(user1.__dict__)"
   ]
  },
  {
   "cell_type": "code",
   "execution_count": 8,
   "metadata": {},
   "outputs": [
    {
     "name": "stdout",
     "output_type": "stream",
     "text": [
      "abc abc@123 abc@xyz.com\n",
      "pqr pqr@123 pqr@xyz.com\n"
     ]
    }
   ],
   "source": [
    "print(user1.user_name,user1.password,user1.email)\n",
    "print(user2.user_name,user2.password,user2.email)"
   ]
  },
  {
   "cell_type": "code",
   "execution_count": 13,
   "metadata": {},
   "outputs": [
    {
     "name": "stdout",
     "output_type": "stream",
     "text": [
      "{'user_name': 'abc', 'password': 'abc@123', 'email': 'abc@xyz.com', 'name': 'RST'}\n"
     ]
    }
   ],
   "source": [
    "user_name = user1.update_name(\"RST\")\n",
    "print(user1.__dict__)\n",
    "# User.update_name(user1,\"RST\")"
   ]
  },
  {
   "cell_type": "code",
   "execution_count": null,
   "metadata": {},
   "outputs": [],
   "source": [
    "user1 = User(\"abc\",\"abc@123\",\"abc@xyz.com\")\n",
    "# User(user1,\"abc\",\"abc@123\",\"abc@xyz.com\")\n",
    "\n",
    "user1.user_name = \"abc\"\n",
    "user1.password = \"abc@123\"\n",
    "user1.email = \"abc@xyz.com\"\n",
    "\n",
    "\n",
    "\n",
    "user2.user_name = \"pqr\"\n",
    "user2.password = \"pqr@123\"\n",
    "user2.email = \"pqr@xyz.com\""
   ]
  },
  {
   "cell_type": "code",
   "execution_count": 15,
   "metadata": {},
   "outputs": [
    {
     "name": "stdout",
     "output_type": "stream",
     "text": [
      "('abc', 'abc@123', 'abc@xyz.com')\n"
     ]
    }
   ],
   "source": [
    "print(user1.get_details())\n",
    "# User.get_details(user1)"
   ]
  },
  {
   "cell_type": "code",
   "execution_count": 16,
   "metadata": {},
   "outputs": [
    {
     "name": "stdout",
     "output_type": "stream",
     "text": [
      "<__main__.User object at 0x00000199B530ACF8>\n"
     ]
    }
   ],
   "source": [
    "class User:\n",
    "    pass\n",
    "\n",
    "user1 = User()\n",
    "print(user1)"
   ]
  },
  {
   "cell_type": "code",
   "execution_count": 18,
   "metadata": {},
   "outputs": [
    {
     "name": "stdout",
     "output_type": "stream",
     "text": [
      "{'user_name': 'abc', 'password': 'abc@123', 'email': 'abc@xyz.com'}\n"
     ]
    }
   ],
   "source": [
    "class User:\n",
    "    def register(self,username,password,email):\n",
    "        self.user_name = username\n",
    "        self.password = password\n",
    "        self.email = email\n",
    "        \n",
    "    def update_name(self,name):\n",
    "        self.name = name\n",
    "        return self.name\n",
    "        \n",
    "    def update_contact_number(self,number):\n",
    "        self.contact_number = number\n",
    "        return self.contact_number\n",
    "    \n",
    "    def get_details(self):\n",
    "        return self.user_name,self.password,self.email\n",
    " \n",
    "user1 = User()\n",
    "user1.register(\"abc\",\"abc@123\",\"abc@xyz.com\")\n",
    "# user1 = User(\"abc\",\"abc@123\",\"abc@xyz.com\")\n",
    "# User(user1,\"abc\",\"abc@123\",\"abc@xyz.com\")\n",
    "print(user1.__dict__)\n",
    "\n",
    "# user2 = User(\"pqr\",\"pqr@123\",\"pqr@xyz.com\")\n",
    "# User(user2,\"pqr\",\"pqr@123\",\"pqr@xyz.com\")\n",
    "# print(user2)"
   ]
  },
  {
   "cell_type": "code",
   "execution_count": 20,
   "metadata": {},
   "outputs": [
    {
     "name": "stdout",
     "output_type": "stream",
     "text": [
      "<class 'list'>\n"
     ]
    }
   ],
   "source": [
    "l = list([10,20,30,40,50])\n",
    "l.append(60)\n",
    "print(l)"
   ]
  },
  {
   "cell_type": "code",
   "execution_count": null,
   "metadata": {},
   "outputs": [],
   "source": [
    "Everything is an object "
   ]
  },
  {
   "cell_type": "code",
   "execution_count": null,
   "metadata": {},
   "outputs": [],
   "source": [
    "class list:\n",
    "    def __init__(slef,)"
   ]
  },
  {
   "cell_type": "code",
   "execution_count": null,
   "metadata": {},
   "outputs": [],
   "source": [
    "class Object"
   ]
  },
  {
   "cell_type": "code",
   "execution_count": null,
   "metadata": {},
   "outputs": [],
   "source": [
    "class ClassName:\n",
    "    pass\n",
    "\n",
    "obj_name = ClassName()"
   ]
  },
  {
   "cell_type": "code",
   "execution_count": null,
   "metadata": {},
   "outputs": [],
   "source": [
    "class ClassName:\n",
    "    def __init__(self,val1,val2):\n",
    "        self.var1 = val1\n",
    "        self.var2 = val2\n",
    "        \n",
    "    def print_val(self):\n",
    "        self.var1 = 50\n",
    "        self.var2 = 100\n",
    "\n",
    "obj_name = ClassName(val1,val2)"
   ]
  },
  {
   "cell_type": "code",
   "execution_count": null,
   "metadata": {},
   "outputs": [],
   "source": [
    "print(obj_name.var1,obj_name.var2)"
   ]
  },
  {
   "cell_type": "code",
   "execution_count": 28,
   "metadata": {},
   "outputs": [],
   "source": [
    "class User:\n",
    "    \n",
    "    users = []\n",
    "    count = 0\n",
    "    def __init__(self,username,password,email):\n",
    "        self.user_name = username\n",
    "        self.password = password\n",
    "        self.email = email\n",
    "        \n",
    "        User.users.append(self)\n",
    "        User.count+=1\n",
    "        \n",
    "    def update_name(self,name):\n",
    "        self.name = name\n",
    "        return self.name\n",
    "        \n",
    "    def update_contact_number(self,number):\n",
    "        self.contact_number = number\n",
    "        return self.contact_number\n",
    "    \n",
    "    def get_details(self):\n",
    "        return self.user_name,self.password,self.email\n",
    " \n",
    "user1 = User(\"abc\",\"abc@123\",\"abc@xyz.com\")\n",
    "# User(user1,\"abc\",\"abc@123\",\"abc@xyz.com\")\n",
    "\n",
    "user2 = User(\"pqr\",\"pqr@123\",\"pqr@xyz.com\")\n",
    "# User(user2,\"pqr\",\"pqr@123\",\"pqr@xyz.com\")\n",
    "\n",
    "\n",
    "user3 = User(\"xyz\",\"xyz@123\",\"xyz@xyz.com\")\n",
    "# User(user2,\"pqr\",\"pqr@123\",\"pqr@xyz.com\")\n",
    "\n",
    "user4 = User(\"ttt\",\"ttt@123\",\"ttt@xyz.com\")\n",
    "# User(user2,\"pqr\",\"pqr@123\",\"pqr@xyz.com\")\n",
    "\n",
    "\n",
    "# users = [user1,user2,user3,user4]\n",
    "# for user in users:\n",
    "#     print(user.get_details())"
   ]
  },
  {
   "cell_type": "code",
   "execution_count": 26,
   "metadata": {},
   "outputs": [
    {
     "name": "stdout",
     "output_type": "stream",
     "text": [
      "[<__main__.User object at 0x00000199B53A3C88>, <__main__.User object at 0x00000199B53A3DA0>, <__main__.User object at 0x00000199B53979E8>, <__main__.User object at 0x00000199B5397B70>]\n"
     ]
    }
   ],
   "source": [
    "print(User.users)"
   ]
  },
  {
   "cell_type": "code",
   "execution_count": 27,
   "metadata": {},
   "outputs": [
    {
     "name": "stdout",
     "output_type": "stream",
     "text": [
      "('abc', 'abc@123', 'abc@xyz.com')\n",
      "('pqr', 'pqr@123', 'pqr@xyz.com')\n",
      "('xyz', 'xyz@123', 'xyz@xyz.com')\n",
      "('ttt', 'ttt@123', 'ttt@xyz.com')\n"
     ]
    }
   ],
   "source": [
    "for user in User.users:\n",
    "    print(user.get_details())"
   ]
  },
  {
   "cell_type": "code",
   "execution_count": 29,
   "metadata": {},
   "outputs": [
    {
     "name": "stdout",
     "output_type": "stream",
     "text": [
      "4\n"
     ]
    }
   ],
   "source": [
    "print(User.count)"
   ]
  },
  {
   "cell_type": "code",
   "execution_count": 30,
   "metadata": {},
   "outputs": [
    {
     "name": "stdout",
     "output_type": "stream",
     "text": [
      "4\n"
     ]
    }
   ],
   "source": [
    "print(user1.count)"
   ]
  },
  {
   "cell_type": "code",
   "execution_count": 33,
   "metadata": {},
   "outputs": [
    {
     "name": "stdout",
     "output_type": "stream",
     "text": [
      "500\n",
      "{'user_name': 'abc', 'password': 'abc@123', 'email': 'abc@xyz.com', 'count': 500}\n"
     ]
    }
   ],
   "source": [
    "user1.count = 500\n",
    "print(user1.count)\n",
    "print(user1.__dict__)"
   ]
  },
  {
   "cell_type": "code",
   "execution_count": 32,
   "metadata": {},
   "outputs": [
    {
     "name": "stdout",
     "output_type": "stream",
     "text": [
      "4\n"
     ]
    }
   ],
   "source": [
    "print(User.count)"
   ]
  },
  {
   "cell_type": "code",
   "execution_count": 34,
   "metadata": {},
   "outputs": [
    {
     "name": "stdout",
     "output_type": "stream",
     "text": [
      "{'user_name': 'pqr', 'password': 'pqr@123', 'email': 'pqr@xyz.com'}\n"
     ]
    }
   ],
   "source": [
    "print(user2.__dict__)"
   ]
  },
  {
   "cell_type": "code",
   "execution_count": 35,
   "metadata": {},
   "outputs": [],
   "source": [
    "User.count  = 1000"
   ]
  },
  {
   "cell_type": "code",
   "execution_count": 36,
   "metadata": {},
   "outputs": [
    {
     "name": "stdout",
     "output_type": "stream",
     "text": [
      "1000\n"
     ]
    }
   ],
   "source": [
    "print(user2.count)"
   ]
  }
 ],
 "metadata": {
  "kernelspec": {
   "display_name": "Python 3",
   "language": "python",
   "name": "python3"
  },
  "language_info": {
   "codemirror_mode": {
    "name": "ipython",
    "version": 3
   },
   "file_extension": ".py",
   "mimetype": "text/x-python",
   "name": "python",
   "nbconvert_exporter": "python",
   "pygments_lexer": "ipython3",
   "version": "3.6.5"
  }
 },
 "nbformat": 4,
 "nbformat_minor": 2
}
