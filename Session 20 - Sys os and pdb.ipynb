{
 "cells": [
  {
   "cell_type": "code",
   "execution_count": 1,
   "metadata": {},
   "outputs": [],
   "source": [
    "import sys"
   ]
  },
  {
   "cell_type": "code",
   "execution_count": 2,
   "metadata": {},
   "outputs": [
    {
     "name": "stdout",
     "output_type": "stream",
     "text": [
      "Help on built-in function getsizeof in module sys:\n",
      "\n",
      "getsizeof(...)\n",
      "    getsizeof(object, default) -> int\n",
      "    \n",
      "    Return the size of object in bytes.\n",
      "\n"
     ]
    }
   ],
   "source": [
    "help(sys.getsizeof)"
   ]
  },
  {
   "cell_type": "code",
   "execution_count": 12,
   "metadata": {},
   "outputs": [
    {
     "name": "stdout",
     "output_type": "stream",
     "text": [
      "64\n",
      "96\n",
      "96\n",
      "96\n",
      "96\n",
      "128\n",
      "128\n",
      "128\n",
      "128\n"
     ]
    }
   ],
   "source": [
    "l = []\n",
    "print(sys.getsizeof(l))\n",
    "l.append(10)\n",
    "print(sys.getsizeof(l))\n",
    "l.append(20)\n",
    "print(sys.getsizeof(l))\n",
    "l.append(30)\n",
    "print(sys.getsizeof(l))\n",
    "l.append(40)\n",
    "print(sys.getsizeof(l))\n",
    "l.append(50)\n",
    "print(sys.getsizeof(l))\n",
    "l.append(60)\n",
    "print(sys.getsizeof(l))\n",
    "l.append(70)\n",
    "print(sys.getsizeof(l))\n",
    "l.append(\"Python Python Python Python,Python\")\n",
    "print(sys.getsizeof(l))\n",
    "\n",
    "\n"
   ]
  },
  {
   "cell_type": "code",
   "execution_count": 15,
   "metadata": {},
   "outputs": [
    {
     "name": "stdout",
     "output_type": "stream",
     "text": [
      "49\n",
      "50\n",
      "51\n"
     ]
    }
   ],
   "source": [
    "s = \"\"\n",
    "print(sys.getsizeof(s))\n",
    "s = s + \"a\"\n",
    "print(sys.getsizeof(s))\n",
    "s = s + \"b\"\n",
    "print(sys.getsizeof(s))\n"
   ]
  },
  {
   "cell_type": "code",
   "execution_count": null,
   "metadata": {},
   "outputs": [],
   "source": [
    "\"Python is easy to learn\"\n",
    "s = s + value "
   ]
  },
  {
   "cell_type": "code",
   "execution_count": 23,
   "metadata": {},
   "outputs": [
    {
     "name": "stdout",
     "output_type": "stream",
     "text": [
      "28\n"
     ]
    }
   ],
   "source": [
    "num1 = 10000\n",
    "print(sys.getsizeof(num1))"
   ]
  },
  {
   "cell_type": "code",
   "execution_count": 24,
   "metadata": {},
   "outputs": [
    {
     "name": "stdout",
     "output_type": "stream",
     "text": [
      "240\n"
     ]
    }
   ],
   "source": [
    "d = {}\n",
    "print(sys.getsizeof(d))"
   ]
  },
  {
   "cell_type": "code",
   "execution_count": 26,
   "metadata": {},
   "outputs": [
    {
     "name": "stdout",
     "output_type": "stream",
     "text": [
      "3.6.5 |Anaconda, Inc.| (default, Mar 29 2018, 13:32:41) [MSC v.1900 64 bit (AMD64)]\n",
      "C:\\ProgramData\\Anaconda3\\python.exe\n"
     ]
    }
   ],
   "source": [
    "print(sys.version)\n",
    "print(sys.executable)"
   ]
  },
  {
   "cell_type": "code",
   "execution_count": 27,
   "metadata": {},
   "outputs": [
    {
     "name": "stdout",
     "output_type": "stream",
     "text": [
      "['', 'C:\\\\ProgramData\\\\Anaconda3\\\\python36.zip', 'C:\\\\ProgramData\\\\Anaconda3\\\\DLLs', 'C:\\\\ProgramData\\\\Anaconda3\\\\lib', 'C:\\\\ProgramData\\\\Anaconda3', 'C:\\\\Users\\\\kunal\\\\AppData\\\\Roaming\\\\Python\\\\Python36\\\\site-packages', 'C:\\\\ProgramData\\\\Anaconda3\\\\lib\\\\site-packages', 'C:\\\\ProgramData\\\\Anaconda3\\\\lib\\\\site-packages\\\\splash-3.2-py3.6.egg', 'C:\\\\ProgramData\\\\Anaconda3\\\\lib\\\\site-packages\\\\funcparserlib-0.3.6-py3.6.egg', 'C:\\\\ProgramData\\\\Anaconda3\\\\lib\\\\site-packages\\\\xmltodict-0.11.0-py3.6.egg', 'C:\\\\ProgramData\\\\Anaconda3\\\\lib\\\\site-packages\\\\magic_bricks_spider_pkg-0.0.1-py3.6.egg', 'C:\\\\ProgramData\\\\Anaconda3\\\\lib\\\\site-packages\\\\mbp1-0.0.1-py3.6.egg', 'C:\\\\ProgramData\\\\Anaconda3\\\\lib\\\\site-packages\\\\magic-0.0.1-py3.6.egg', 'C:\\\\ProgramData\\\\Anaconda3\\\\lib\\\\site-packages\\\\linearsearch-0.0.1-py3.6.egg', 'C:\\\\ProgramData\\\\Anaconda3\\\\lib\\\\site-packages\\\\ls-0.0.1-py3.6.egg', 'C:\\\\ProgramData\\\\Anaconda3\\\\lib\\\\site-packages\\\\my_your_username-0.0.1-py3.6.egg', 'C:\\\\ProgramData\\\\Anaconda3\\\\lib\\\\site-packages\\\\mypkg-0.0.1-py3.6.egg', 'C:\\\\ProgramData\\\\Anaconda3\\\\lib\\\\site-packages\\\\win32', 'C:\\\\ProgramData\\\\Anaconda3\\\\lib\\\\site-packages\\\\win32\\\\lib', 'C:\\\\ProgramData\\\\Anaconda3\\\\lib\\\\site-packages\\\\Pythonwin', 'C:\\\\ProgramData\\\\Anaconda3\\\\lib\\\\site-packages\\\\IPython\\\\extensions', 'C:\\\\Users\\\\kunal\\\\.ipython']\n"
     ]
    }
   ],
   "source": [
    "print(sys.path)"
   ]
  },
  {
   "cell_type": "code",
   "execution_count": 28,
   "metadata": {},
   "outputs": [
    {
     "name": "stdout",
     "output_type": "stream",
     "text": [
      "100\n"
     ]
    }
   ],
   "source": [
    "print(100)"
   ]
  },
  {
   "cell_type": "code",
   "execution_count": 29,
   "metadata": {},
   "outputs": [
    {
     "name": "stdout",
     "output_type": "stream",
     "text": [
      "Help on TextIOWrapper object:\n",
      "\n",
      "class TextIOWrapper(_TextIOBase)\n",
      " |  Character and line based layer over a BufferedIOBase object, buffer.\n",
      " |  \n",
      " |  encoding gives the name of the encoding that the stream will be\n",
      " |  decoded or encoded with. It defaults to locale.getpreferredencoding(False).\n",
      " |  \n",
      " |  errors determines the strictness of encoding and decoding (see\n",
      " |  help(codecs.Codec) or the documentation for codecs.register) and\n",
      " |  defaults to \"strict\".\n",
      " |  \n",
      " |  newline controls how line endings are handled. It can be None, '',\n",
      " |  '\\n', '\\r', and '\\r\\n'.  It works as follows:\n",
      " |  \n",
      " |  * On input, if newline is None, universal newlines mode is\n",
      " |    enabled. Lines in the input can end in '\\n', '\\r', or '\\r\\n', and\n",
      " |    these are translated into '\\n' before being returned to the\n",
      " |    caller. If it is '', universal newline mode is enabled, but line\n",
      " |    endings are returned to the caller untranslated. If it has any of\n",
      " |    the other legal values, input lines are only terminated by the given\n",
      " |    string, and the line ending is returned to the caller untranslated.\n",
      " |  \n",
      " |  * On output, if newline is None, any '\\n' characters written are\n",
      " |    translated to the system default line separator, os.linesep. If\n",
      " |    newline is '' or '\\n', no translation takes place. If newline is any\n",
      " |    of the other legal values, any '\\n' characters written are translated\n",
      " |    to the given string.\n",
      " |  \n",
      " |  If line_buffering is True, a call to flush is implied when a call to\n",
      " |  write contains a newline character.\n",
      " |  \n",
      " |  Method resolution order:\n",
      " |      TextIOWrapper\n",
      " |      _TextIOBase\n",
      " |      _IOBase\n",
      " |      builtins.object\n",
      " |  \n",
      " |  Methods defined here:\n",
      " |  \n",
      " |  __getstate__(...)\n",
      " |  \n",
      " |  __init__(self, /, *args, **kwargs)\n",
      " |      Initialize self.  See help(type(self)) for accurate signature.\n",
      " |  \n",
      " |  __new__(*args, **kwargs) from builtins.type\n",
      " |      Create and return a new object.  See help(type) for accurate signature.\n",
      " |  \n",
      " |  __next__(self, /)\n",
      " |      Implement next(self).\n",
      " |  \n",
      " |  __repr__(self, /)\n",
      " |      Return repr(self).\n",
      " |  \n",
      " |  close(self, /)\n",
      " |      Flush and close the IO object.\n",
      " |      \n",
      " |      This method has no effect if the file is already closed.\n",
      " |  \n",
      " |  detach(self, /)\n",
      " |      Separate the underlying buffer from the TextIOBase and return it.\n",
      " |      \n",
      " |      After the underlying buffer has been detached, the TextIO is in an\n",
      " |      unusable state.\n",
      " |  \n",
      " |  fileno(self, /)\n",
      " |      Returns underlying file descriptor if one exists.\n",
      " |      \n",
      " |      OSError is raised if the IO object does not use a file descriptor.\n",
      " |  \n",
      " |  flush(self, /)\n",
      " |      Flush write buffers, if applicable.\n",
      " |      \n",
      " |      This is not implemented for read-only and non-blocking streams.\n",
      " |  \n",
      " |  isatty(self, /)\n",
      " |      Return whether this is an 'interactive' stream.\n",
      " |      \n",
      " |      Return False if it can't be determined.\n",
      " |  \n",
      " |  read(self, size=-1, /)\n",
      " |      Read at most n characters from stream.\n",
      " |      \n",
      " |      Read from underlying buffer until we have n characters or we hit EOF.\n",
      " |      If n is negative or omitted, read until EOF.\n",
      " |  \n",
      " |  readable(self, /)\n",
      " |      Return whether object was opened for reading.\n",
      " |      \n",
      " |      If False, read() will raise OSError.\n",
      " |  \n",
      " |  readline(self, size=-1, /)\n",
      " |      Read until newline or EOF.\n",
      " |      \n",
      " |      Returns an empty string if EOF is hit immediately.\n",
      " |  \n",
      " |  seek(self, cookie, whence=0, /)\n",
      " |      Change stream position.\n",
      " |      \n",
      " |      Change the stream position to the given byte offset. The offset is\n",
      " |      interpreted relative to the position indicated by whence.  Values\n",
      " |      for whence are:\n",
      " |      \n",
      " |      * 0 -- start of stream (the default); offset should be zero or positive\n",
      " |      * 1 -- current stream position; offset may be negative\n",
      " |      * 2 -- end of stream; offset is usually negative\n",
      " |      \n",
      " |      Return the new absolute position.\n",
      " |  \n",
      " |  seekable(self, /)\n",
      " |      Return whether object supports random access.\n",
      " |      \n",
      " |      If False, seek(), tell() and truncate() will raise OSError.\n",
      " |      This method may need to do a test seek().\n",
      " |  \n",
      " |  tell(self, /)\n",
      " |      Return current stream position.\n",
      " |  \n",
      " |  truncate(self, pos=None, /)\n",
      " |      Truncate file to size bytes.\n",
      " |      \n",
      " |      File pointer is left unchanged.  Size defaults to the current IO\n",
      " |      position as reported by tell().  Returns the new size.\n",
      " |  \n",
      " |  writable(self, /)\n",
      " |      Return whether object was opened for writing.\n",
      " |      \n",
      " |      If False, write() will raise OSError.\n",
      " |  \n",
      " |  write(self, text, /)\n",
      " |      Write string to stream.\n",
      " |      Returns the number of characters written (which is always equal to\n",
      " |      the length of the string).\n",
      " |  \n",
      " |  ----------------------------------------------------------------------\n",
      " |  Data descriptors defined here:\n",
      " |  \n",
      " |  buffer\n",
      " |  \n",
      " |  closed\n",
      " |  \n",
      " |  encoding\n",
      " |      Encoding of the text stream.\n",
      " |      \n",
      " |      Subclasses should override.\n",
      " |  \n",
      " |  errors\n",
      " |      The error setting of the decoder or encoder.\n",
      " |      \n",
      " |      Subclasses should override.\n",
      " |  \n",
      " |  line_buffering\n",
      " |  \n",
      " |  name\n",
      " |  \n",
      " |  newlines\n",
      " |      Line endings translated so far.\n",
      " |      \n",
      " |      Only line endings translated during reading are considered.\n",
      " |      \n",
      " |      Subclasses should override.\n",
      " |  \n",
      " |  ----------------------------------------------------------------------\n",
      " |  Methods inherited from _IOBase:\n",
      " |  \n",
      " |  __del__(...)\n",
      " |  \n",
      " |  __enter__(...)\n",
      " |  \n",
      " |  __exit__(...)\n",
      " |  \n",
      " |  __iter__(self, /)\n",
      " |      Implement iter(self).\n",
      " |  \n",
      " |  readlines(self, hint=-1, /)\n",
      " |      Return a list of lines from the stream.\n",
      " |      \n",
      " |      hint can be specified to control the number of lines read: no more\n",
      " |      lines will be read if the total size (in bytes/characters) of all\n",
      " |      lines so far exceeds hint.\n",
      " |  \n",
      " |  writelines(self, lines, /)\n",
      " |  \n",
      " |  ----------------------------------------------------------------------\n",
      " |  Data descriptors inherited from _IOBase:\n",
      " |  \n",
      " |  __dict__\n",
      "\n"
     ]
    }
   ],
   "source": [
    "help(sys.stdin)"
   ]
  },
  {
   "cell_type": "code",
   "execution_count": 1,
   "metadata": {},
   "outputs": [],
   "source": [
    "import os"
   ]
  },
  {
   "cell_type": "code",
   "execution_count": 32,
   "metadata": {},
   "outputs": [
    {
     "name": "stdout",
     "output_type": "stream",
     "text": [
      "win32\n"
     ]
    }
   ],
   "source": [
    "print(sys.platform)"
   ]
  },
  {
   "cell_type": "code",
   "execution_count": 33,
   "metadata": {},
   "outputs": [
    {
     "name": "stdout",
     "output_type": "stream",
     "text": [
      "['.ipynb_checkpoints', 'New Text Document.txt', 'pkg1', 'sample.txt', 'sample1.txt', 'Session 1 - Python basics.ipynb', 'Session 10 - User Defined Functions.ipynb', 'Session 11 - Functions.ipynb', 'Session 12 - File operations.ipynb', 'Session 13 - Regx.ipynb', 'Session 14 - List Comprehension.ipynb', 'Session 15 - Map Filter and Lambda.ipynb', 'Session 16 - Iterators, Generators and Decorators.ipynb', 'Session 17 - Object Oriented Programming.ipynb', 'Session 18 - OOP - Part 2.ipynb', 'Session 19 - OOP.ipynb', 'Session 2 - Operators.ipynb', 'Session 20 - Sys os and pdb.ipynb', 'Session 3 - Conditional Statements.ipynb', 'Session 4 - Looping Statements.ipynb', 'Session 5 - Loops and Str.ipynb', 'Session 6 - Str.ipynb', 'Session 7 - List.ipynb', 'Session 8 - Dict.ipynb', 'Session 9 - Dict and Set.ipynb', 'test.py', 'test1.txt', 'test2.txt']\n"
     ]
    }
   ],
   "source": [
    "print(os.listdir())"
   ]
  },
  {
   "cell_type": "code",
   "execution_count": 2,
   "metadata": {},
   "outputs": [
    {
     "name": "stdout",
     "output_type": "stream",
     "text": [
      "E:\\sessions Code\\essential-python\n"
     ]
    }
   ],
   "source": [
    "print(os.getcwd())"
   ]
  },
  {
   "cell_type": "code",
   "execution_count": 35,
   "metadata": {},
   "outputs": [],
   "source": [
    "os.mkdir(\"test_folder\")"
   ]
  },
  {
   "cell_type": "code",
   "execution_count": 36,
   "metadata": {},
   "outputs": [
    {
     "name": "stdout",
     "output_type": "stream",
     "text": [
      "E:\\sessions Code\\essential-python\\test_folder\n"
     ]
    }
   ],
   "source": [
    "os.chdir(\"test_folder\")\n",
    "print(os.getcwd())"
   ]
  },
  {
   "cell_type": "code",
   "execution_count": 38,
   "metadata": {},
   "outputs": [
    {
     "name": "stdout",
     "output_type": "stream",
     "text": [
      "0\n"
     ]
    }
   ],
   "source": [
    "r = os.system(\"dir\")\n",
    "print(r)"
   ]
  },
  {
   "cell_type": "code",
   "execution_count": 4,
   "metadata": {},
   "outputs": [
    {
     "name": "stdout",
     "output_type": "stream",
     "text": [
      "[('E:\\\\sessions Code\\\\essential-python', ['.ipynb_checkpoints', 'pkg1', 'test_folder'], ['New Text Document.txt', 'sample.txt', 'sample1.txt', 'Session 1 - Python basics.ipynb', 'Session 10 - User Defined Functions.ipynb', 'Session 11 - Functions.ipynb', 'Session 12 - File operations.ipynb', 'Session 13 - Regx.ipynb', 'Session 14 - List Comprehension.ipynb', 'Session 15 - Map Filter and Lambda.ipynb', 'Session 16 - Iterators, Generators and Decorators.ipynb', 'Session 17 - Object Oriented Programming.ipynb', 'Session 18 - OOP - Part 2.ipynb', 'Session 19 - OOP.ipynb', 'Session 2 - Operators.ipynb', 'Session 20 - Sys os and pdb.ipynb', 'Session 3 - Conditional Statements.ipynb', 'Session 4 - Looping Statements.ipynb', 'Session 5 - Loops and Str.ipynb', 'Session 6 - Str.ipynb', 'Session 7 - List.ipynb', 'Session 8 - Dict.ipynb', 'Session 9 - Dict and Set.ipynb', 'test.py', 'test1.txt', 'test2.py', 'test2.txt']), ('E:\\\\sessions Code\\\\essential-python\\\\.ipynb_checkpoints', [], ['Session 1 - Python basics-checkpoint.ipynb', 'Session 10 - User Defined Functions-checkpoint.ipynb', 'Session 11 - Functions-checkpoint.ipynb', 'Session 12 - File operations-checkpoint.ipynb', 'Session 13 - Regx-checkpoint.ipynb', 'Session 14 - List Comprehension-checkpoint.ipynb', 'Session 15 - Map Filter and Lambda-checkpoint.ipynb', 'Session 16 - Iterators, Generators and Decorators-checkpoint.ipynb', 'Session 17 - Object Oriented Programming-checkpoint.ipynb', 'Session 18 - OOP - Part 2-checkpoint.ipynb', 'Session 19 - OOP-checkpoint.ipynb', 'Session 2 - Operators-checkpoint.ipynb', 'Session 20 - Sys os and pdb-checkpoint.ipynb', 'Session 3 - Conditional Statements-checkpoint.ipynb', 'Session 4 - Looping Statements-checkpoint.ipynb', 'Session 5 - Loops and Str-checkpoint.ipynb', 'Session 6 - Str and list-checkpoint.ipynb', 'Session 7 - List-checkpoint.ipynb', 'Session 8 - Dict-checkpoint.ipynb']), ('E:\\\\sessions Code\\\\essential-python\\\\pkg1', ['.ipynb_checkpoints', 'pkg2'], ['main.ipynb']), ('E:\\\\sessions Code\\\\essential-python\\\\pkg1\\\\.ipynb_checkpoints', [], ['main-checkpoint.ipynb']), ('E:\\\\sessions Code\\\\essential-python\\\\pkg1\\\\pkg2', ['pkg3'], []), ('E:\\\\sessions Code\\\\essential-python\\\\pkg1\\\\pkg2\\\\pkg3', ['__pycache__'], ['bs.py']), ('E:\\\\sessions Code\\\\essential-python\\\\pkg1\\\\pkg2\\\\pkg3\\\\__pycache__', [], ['bs.cpython-36.pyc']), ('E:\\\\sessions Code\\\\essential-python\\\\test_folder', [], [])]\n"
     ]
    }
   ],
   "source": [
    "print(list(os.walk(os.getcwd())))"
   ]
  },
  {
   "cell_type": "code",
   "execution_count": 5,
   "metadata": {},
   "outputs": [],
   "source": [
    "import os.path`"
   ]
  },
  {
   "cell_type": "code",
   "execution_count": 6,
   "metadata": {},
   "outputs": [
    {
     "name": "stdout",
     "output_type": "stream",
     "text": [
      "Help on module ntpath:\n",
      "\n",
      "NAME\n",
      "    ntpath - Common pathname manipulations, WindowsNT/95 version.\n",
      "\n",
      "DESCRIPTION\n",
      "    Instead of importing this module directly, import os and refer to this\n",
      "    module as os.path.\n",
      "\n",
      "FUNCTIONS\n",
      "    abspath(path)\n",
      "        Return the absolute version of a path.\n",
      "    \n",
      "    basename(p)\n",
      "        Returns the final component of a pathname\n",
      "    \n",
      "    commonpath(paths)\n",
      "        Given a sequence of path names, returns the longest common sub-path.\n",
      "    \n",
      "    commonprefix(m)\n",
      "        Given a list of pathnames, returns the longest common leading component\n",
      "    \n",
      "    dirname(p)\n",
      "        Returns the directory component of a pathname\n",
      "    \n",
      "    exists(path)\n",
      "        Test whether a path exists.  Returns False for broken symbolic links\n",
      "    \n",
      "    expanduser(path)\n",
      "        Expand ~ and ~user constructs.\n",
      "        \n",
      "        If user or $HOME is unknown, do nothing.\n",
      "    \n",
      "    expandvars(path)\n",
      "        Expand shell variables of the forms $var, ${var} and %var%.\n",
      "        \n",
      "        Unknown variables are left unchanged.\n",
      "    \n",
      "    getatime(filename)\n",
      "        Return the last access time of a file, reported by os.stat().\n",
      "    \n",
      "    getctime(filename)\n",
      "        Return the metadata change time of a file, reported by os.stat().\n",
      "    \n",
      "    getmtime(filename)\n",
      "        Return the last modification time of a file, reported by os.stat().\n",
      "    \n",
      "    getsize(filename)\n",
      "        Return the size of a file, reported by os.stat().\n",
      "    \n",
      "    isabs(s)\n",
      "        Test whether a path is absolute\n",
      "    \n",
      "    isdir = _isdir(path, /)\n",
      "        Return true if the pathname refers to an existing directory.\n",
      "    \n",
      "    isfile(path)\n",
      "        Test whether a path is a regular file\n",
      "    \n",
      "    islink(path)\n",
      "        Test whether a path is a symbolic link.\n",
      "        This will always return false for Windows prior to 6.0.\n",
      "    \n",
      "    ismount(path)\n",
      "        Test whether a path is a mount point (a drive root, the root of a\n",
      "        share, or a mounted volume)\n",
      "    \n",
      "    join(path, *paths)\n",
      "        # Join two (or more) paths.\n",
      "    \n",
      "    lexists(path)\n",
      "        Test whether a path exists.  Returns True for broken symbolic links\n",
      "    \n",
      "    normcase(s)\n",
      "        Normalize case of pathname.\n",
      "        \n",
      "        Makes all characters lowercase and all slashes into backslashes.\n",
      "    \n",
      "    normpath(path)\n",
      "        Normalize path, eliminating double slashes, etc.\n",
      "    \n",
      "    realpath = abspath(path)\n",
      "        Return the absolute version of a path.\n",
      "    \n",
      "    relpath(path, start=None)\n",
      "        Return a relative version of a path\n",
      "    \n",
      "    samefile(f1, f2)\n",
      "        Test whether two pathnames reference the same actual file\n",
      "    \n",
      "    sameopenfile(fp1, fp2)\n",
      "        Test whether two open file objects reference the same file\n",
      "    \n",
      "    samestat(s1, s2)\n",
      "        Test whether two stat buffers reference the same file\n",
      "    \n",
      "    split(p)\n",
      "        Split a pathname.\n",
      "        \n",
      "        Return tuple (head, tail) where tail is everything after the final slash.\n",
      "        Either part may be empty.\n",
      "    \n",
      "    splitdrive(p)\n",
      "        Split a pathname into drive/UNC sharepoint and relative path specifiers.\n",
      "        Returns a 2-tuple (drive_or_unc, path); either part may be empty.\n",
      "        \n",
      "        If you assign\n",
      "            result = splitdrive(p)\n",
      "        It is always true that:\n",
      "            result[0] + result[1] == p\n",
      "        \n",
      "        If the path contained a drive letter, drive_or_unc will contain everything\n",
      "        up to and including the colon.  e.g. splitdrive(\"c:/dir\") returns (\"c:\", \"/dir\")\n",
      "        \n",
      "        If the path contained a UNC path, the drive_or_unc will contain the host name\n",
      "        and share up to but not including the fourth directory separator character.\n",
      "        e.g. splitdrive(\"//host/computer/dir\") returns (\"//host/computer\", \"/dir\")\n",
      "        \n",
      "        Paths cannot contain both a drive letter and a UNC path.\n",
      "    \n",
      "    splitext(p)\n",
      "        Split the extension from a pathname.\n",
      "        \n",
      "        Extension is everything from the last dot to the end, ignoring\n",
      "        leading dots.  Returns \"(root, ext)\"; ext may be empty.\n",
      "    \n",
      "    splitunc(p)\n",
      "        Deprecated since Python 3.1.  Please use splitdrive() instead;\n",
      "        it now handles UNC paths.\n",
      "        \n",
      "        Split a pathname into UNC mount point and relative path specifiers.\n",
      "        \n",
      "        Return a 2-tuple (unc, rest); either part may be empty.\n",
      "        If unc is not empty, it has the form '//host/mount' (or similar\n",
      "        using backslashes).  unc+rest is always the input path.\n",
      "        Paths containing drive letters never have a UNC part.\n",
      "\n",
      "DATA\n",
      "    __all__ = ['normcase', 'isabs', 'join', 'splitdrive', 'split', 'splite...\n",
      "    altsep = '/'\n",
      "    curdir = '.'\n",
      "    defpath = r'.;C:\\bin'\n",
      "    devnull = 'nul'\n",
      "    extsep = '.'\n",
      "    pardir = '..'\n",
      "    pathsep = ';'\n",
      "    sep = r'\\'\n",
      "    supports_unicode_filenames = True\n",
      "\n",
      "FILE\n",
      "    c:\\programdata\\anaconda3\\lib\\ntpath.py\n",
      "\n",
      "\n"
     ]
    }
   ],
   "source": [
    "help(os.path)"
   ]
  },
  {
   "cell_type": "code",
   "execution_count": 7,
   "metadata": {},
   "outputs": [
    {
     "name": "stdout",
     "output_type": "stream",
     "text": [
      "E:\\sessions Code\\essential-python\n"
     ]
    }
   ],
   "source": [
    "s = \"E:\\sessions Code\\essential-python\\sample.txt\"\n",
    "print(os.path.dirname(s))"
   ]
  },
  {
   "cell_type": "code",
   "execution_count": 8,
   "metadata": {},
   "outputs": [
    {
     "name": "stdout",
     "output_type": "stream",
     "text": [
      "sample.txt\n"
     ]
    }
   ],
   "source": [
    "s = \"E:\\sessions Code\\essential-python\\sample.txt\"\n",
    "print(os.path.basename(s))"
   ]
  },
  {
   "cell_type": "code",
   "execution_count": null,
   "metadata": {},
   "outputs": [],
   "source": [
    "shutils "
   ]
  },
  {
   "cell_type": "code",
   "execution_count": 14,
   "metadata": {},
   "outputs": [
    {
     "name": "stdout",
     "output_type": "stream",
     "text": [
      "--Return--\n",
      "> <ipython-input-14-8385be19cb8c>(2)<module>()->None\n",
      "-> pdb.set_trace()\n",
      "(Pdb) ll\n",
      "  1  \timport pdb\n",
      "  2  ->\tpdb.set_trace()\n",
      "  3  \tdef linear_search(l,key):\n",
      "  4  \t\tfor value in l:\n",
      "  5  \t\t\tif value == key:\n",
      "  6  \t\t\t\treturn True\n",
      "  7  \t\treturn False\n",
      "  8  \t\n",
      "  9  \t\n",
      " 10  \tl = [10,20,30,40,50,60,70]\n",
      " 11  \tkey = 60\n",
      " 12  \tprint(linear_search(l,key))\n",
      "(Pdb) next\n",
      "> c:\\programdata\\anaconda3\\lib\\site-packages\\ipython\\core\\interactiveshell.py(2966)run_code()\n",
      "-> sys.excepthook = old_excepthook\n",
      "(Pdb) q\n"
     ]
    },
    {
     "ename": "BdbQuit",
     "evalue": "",
     "output_type": "error",
     "traceback": [
      "\u001b[1;31m---------------------------------------------------------------------------\u001b[0m",
      "\u001b[1;31mBdbQuit\u001b[0m                                   Traceback (most recent call last)",
      "\u001b[1;32mC:\\ProgramData\\Anaconda3\\lib\\site-packages\\IPython\\core\\interactiveshell.py\u001b[0m in \u001b[0;36mrun_code\u001b[1;34m(self, code_obj, result)\u001b[0m\n\u001b[0;32m   2964\u001b[0m             \u001b[1;32mfinally\u001b[0m\u001b[1;33m:\u001b[0m\u001b[1;33m\u001b[0m\u001b[0m\n\u001b[0;32m   2965\u001b[0m                 \u001b[1;31m# Reset our crash handler in place\u001b[0m\u001b[1;33m\u001b[0m\u001b[1;33m\u001b[0m\u001b[0m\n\u001b[1;32m-> 2966\u001b[1;33m                 \u001b[0msys\u001b[0m\u001b[1;33m.\u001b[0m\u001b[0mexcepthook\u001b[0m \u001b[1;33m=\u001b[0m \u001b[0mold_excepthook\u001b[0m\u001b[1;33m\u001b[0m\u001b[0m\n\u001b[0m\u001b[0;32m   2967\u001b[0m         \u001b[1;32mexcept\u001b[0m \u001b[0mSystemExit\u001b[0m \u001b[1;32mas\u001b[0m \u001b[0me\u001b[0m\u001b[1;33m:\u001b[0m\u001b[1;33m\u001b[0m\u001b[0m\n\u001b[0;32m   2968\u001b[0m             \u001b[1;32mif\u001b[0m \u001b[0mresult\u001b[0m \u001b[1;32mis\u001b[0m \u001b[1;32mnot\u001b[0m \u001b[1;32mNone\u001b[0m\u001b[1;33m:\u001b[0m\u001b[1;33m\u001b[0m\u001b[0m\n",
      "\u001b[1;32mC:\\ProgramData\\Anaconda3\\lib\\bdb.py\u001b[0m in \u001b[0;36mtrace_dispatch\u001b[1;34m(self, frame, event, arg)\u001b[0m\n\u001b[0;32m     49\u001b[0m             \u001b[1;32mreturn\u001b[0m \u001b[1;31m# None\u001b[0m\u001b[1;33m\u001b[0m\u001b[0m\n\u001b[0;32m     50\u001b[0m         \u001b[1;32mif\u001b[0m \u001b[0mevent\u001b[0m \u001b[1;33m==\u001b[0m \u001b[1;34m'line'\u001b[0m\u001b[1;33m:\u001b[0m\u001b[1;33m\u001b[0m\u001b[0m\n\u001b[1;32m---> 51\u001b[1;33m             \u001b[1;32mreturn\u001b[0m \u001b[0mself\u001b[0m\u001b[1;33m.\u001b[0m\u001b[0mdispatch_line\u001b[0m\u001b[1;33m(\u001b[0m\u001b[0mframe\u001b[0m\u001b[1;33m)\u001b[0m\u001b[1;33m\u001b[0m\u001b[0m\n\u001b[0m\u001b[0;32m     52\u001b[0m         \u001b[1;32mif\u001b[0m \u001b[0mevent\u001b[0m \u001b[1;33m==\u001b[0m \u001b[1;34m'call'\u001b[0m\u001b[1;33m:\u001b[0m\u001b[1;33m\u001b[0m\u001b[0m\n\u001b[0;32m     53\u001b[0m             \u001b[1;32mreturn\u001b[0m \u001b[0mself\u001b[0m\u001b[1;33m.\u001b[0m\u001b[0mdispatch_call\u001b[0m\u001b[1;33m(\u001b[0m\u001b[0mframe\u001b[0m\u001b[1;33m,\u001b[0m \u001b[0marg\u001b[0m\u001b[1;33m)\u001b[0m\u001b[1;33m\u001b[0m\u001b[0m\n",
      "\u001b[1;32mC:\\ProgramData\\Anaconda3\\lib\\bdb.py\u001b[0m in \u001b[0;36mdispatch_line\u001b[1;34m(self, frame)\u001b[0m\n\u001b[0;32m     68\u001b[0m         \u001b[1;32mif\u001b[0m \u001b[0mself\u001b[0m\u001b[1;33m.\u001b[0m\u001b[0mstop_here\u001b[0m\u001b[1;33m(\u001b[0m\u001b[0mframe\u001b[0m\u001b[1;33m)\u001b[0m \u001b[1;32mor\u001b[0m \u001b[0mself\u001b[0m\u001b[1;33m.\u001b[0m\u001b[0mbreak_here\u001b[0m\u001b[1;33m(\u001b[0m\u001b[0mframe\u001b[0m\u001b[1;33m)\u001b[0m\u001b[1;33m:\u001b[0m\u001b[1;33m\u001b[0m\u001b[0m\n\u001b[0;32m     69\u001b[0m             \u001b[0mself\u001b[0m\u001b[1;33m.\u001b[0m\u001b[0muser_line\u001b[0m\u001b[1;33m(\u001b[0m\u001b[0mframe\u001b[0m\u001b[1;33m)\u001b[0m\u001b[1;33m\u001b[0m\u001b[0m\n\u001b[1;32m---> 70\u001b[1;33m             \u001b[1;32mif\u001b[0m \u001b[0mself\u001b[0m\u001b[1;33m.\u001b[0m\u001b[0mquitting\u001b[0m\u001b[1;33m:\u001b[0m \u001b[1;32mraise\u001b[0m \u001b[0mBdbQuit\u001b[0m\u001b[1;33m\u001b[0m\u001b[0m\n\u001b[0m\u001b[0;32m     71\u001b[0m         \u001b[1;32mreturn\u001b[0m \u001b[0mself\u001b[0m\u001b[1;33m.\u001b[0m\u001b[0mtrace_dispatch\u001b[0m\u001b[1;33m\u001b[0m\u001b[0m\n\u001b[0;32m     72\u001b[0m \u001b[1;33m\u001b[0m\u001b[0m\n",
      "\u001b[1;31mBdbQuit\u001b[0m: "
     ]
    }
   ],
   "source": [
    "import pdb\n",
    "pdb.set_trace()\n",
    "def linear_search(l,key):\n",
    "\tfor value in l:\n",
    "\t\tif value == key:\n",
    "\t\t\treturn True\n",
    "\treturn False\n",
    "\n",
    "\n",
    "l = [10,20,30,40,50,60,70]\n",
    "key = 60\n",
    "print(linear_search(l,key))"
   ]
  },
  {
   "cell_type": "code",
   "execution_count": 17,
   "metadata": {},
   "outputs": [
    {
     "name": "stdout",
     "output_type": "stream",
     "text": [
      "[1, 2, 3, 4, 5]\n",
      "[]\n",
      "[2, 3, 4, 5]\n",
      "[1]\n",
      "[2, 4, 5]\n",
      "[1, 3]\n",
      "[2, 4]\n"
     ]
    }
   ],
   "source": [
    "a=[1,2,3,4,5] \n",
    "b=[]\n",
    "for i in a:\n",
    "    print(a)\n",
    "    print(b)\n",
    "    b.append(i) \n",
    "    a.remove(i)\n",
    "print(a)"
   ]
  }
 ],
 "metadata": {
  "kernelspec": {
   "display_name": "Python 3",
   "language": "python",
   "name": "python3"
  },
  "language_info": {
   "codemirror_mode": {
    "name": "ipython",
    "version": 3
   },
   "file_extension": ".py",
   "mimetype": "text/x-python",
   "name": "python",
   "nbconvert_exporter": "python",
   "pygments_lexer": "ipython3",
   "version": "3.6.5"
  }
 },
 "nbformat": 4,
 "nbformat_minor": 2
}
