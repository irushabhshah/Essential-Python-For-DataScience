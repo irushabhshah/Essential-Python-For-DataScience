{
 "cells": [
  {
   "cell_type": "code",
   "execution_count": 1,
   "metadata": {},
   "outputs": [
    {
     "name": "stdout",
     "output_type": "stream",
     "text": [
      "[10, 20, 30, 40, 50, 60]\n"
     ]
    }
   ],
   "source": [
    "l = [10,20,30,40,50]\n",
    "l.append(60)\n",
    "print(l)"
   ]
  },
  {
   "cell_type": "code",
   "execution_count": null,
   "metadata": {},
   "outputs": [],
   "source": [
    "Code reuse\n",
    "Modularity "
   ]
  },
  {
   "cell_type": "code",
   "execution_count": null,
   "metadata": {},
   "outputs": [],
   "source": [
    "func call => using the func\n",
    "func defn => logic "
   ]
  },
  {
   "cell_type": "code",
   "execution_count": null,
   "metadata": {},
   "outputs": [],
   "source": [
    "def func_name(input arg):\n",
    "    func_logic\n",
    "    return output\n",
    "    \n",
    "result = func_name(arg)"
   ]
  },
  {
   "cell_type": "code",
   "execution_count": 6,
   "metadata": {},
   "outputs": [
    {
     "name": "stdout",
     "output_type": "stream",
     "text": [
      "avaJ\n"
     ]
    }
   ],
   "source": [
    "def str_rev(value):\n",
    "    rev = value[::-1]\n",
    "    return rev\n",
    "    print(\"Hello\")\n",
    "\n",
    "result = str_rev(\"Java\")\n",
    "print(result)"
   ]
  },
  {
   "cell_type": "code",
   "execution_count": 10,
   "metadata": {},
   "outputs": [
    {
     "name": "stdout",
     "output_type": "stream",
     "text": [
      "False\n"
     ]
    }
   ],
   "source": [
    "def linear_search(nums,key):\n",
    "    for index,value in enumerate(nums):\n",
    "        if value == key:\n",
    "            return True,index\n",
    "    else:\n",
    "        return False\n",
    "        \n",
    "\n",
    "nums = [10,20,30,40,50,60,70]\n",
    "key = 6000\n",
    "result = linear_search(nums,key)\n",
    "print(result)"
   ]
  },
  {
   "cell_type": "code",
   "execution_count": null,
   "metadata": {},
   "outputs": [],
   "source": [
    "num = [100,200,300,400,500,600,700]\n",
    "key = 6000"
   ]
  },
  {
   "cell_type": "code",
   "execution_count": 11,
   "metadata": {},
   "outputs": [
    {
     "name": "stdout",
     "output_type": "stream",
     "text": [
      "[5, 10, 15, 20, 25, 30, 35, 40, 45, 50]\n"
     ]
    }
   ],
   "source": [
    "def question_first_solution(num):\n",
    "    table = []\n",
    "    for no in range(1,11):\n",
    "        ans = num * no\n",
    "        table.append(ans)\n",
    "    return table\n",
    "print(question_first_solution(5))\n"
   ]
  },
  {
   "cell_type": "code",
   "execution_count": 17,
   "metadata": {},
   "outputs": [
    {
     "name": "stdout",
     "output_type": "stream",
     "text": [
      "30\n",
      "PythonJava\n",
      "-1\n"
     ]
    }
   ],
   "source": [
    "def add(val1,val2):\n",
    "    if type(val1) == type(val2):\n",
    "        return val1 + val2\n",
    "    else:\n",
    "        return -1\n",
    "\n",
    "print(add(10,20))\n",
    "print(add(\"Python\",\"Java\"))\n",
    "print(add(\"Python\",20))"
   ]
  },
  {
   "cell_type": "code",
   "execution_count": null,
   "metadata": {},
   "outputs": [],
   "source": [
    "void add(int num1,int num2)"
   ]
  },
  {
   "cell_type": "code",
   "execution_count": null,
   "metadata": {},
   "outputs": [],
   "source": [
    "Parameter passing techniques \n",
    "    1. Positional args \n",
    "    2. Default args\n",
    "    3. Variable length positional args\n",
    "    4. keyword args\n",
    "    5. Var length keyword args\n",
    "    6. Unpacking"
   ]
  },
  {
   "cell_type": "code",
   "execution_count": 18,
   "metadata": {},
   "outputs": [
    {
     "name": "stdout",
     "output_type": "stream",
     "text": [
      "False\n"
     ]
    }
   ],
   "source": [
    "def linear_search(nums,key):\n",
    "    for index,value in enumerate(nums):\n",
    "        if value == key:\n",
    "            return True,index\n",
    "    else:\n",
    "        return False\n",
    "    \n",
    "        \n",
    "\n",
    "numbers = [10,20,30,40,50,60,70]\n",
    "key = 6000\n",
    "\n",
    "result = linear_search(numbers,key)\n",
    "print(result)"
   ]
  },
  {
   "cell_type": "code",
   "execution_count": 26,
   "metadata": {},
   "outputs": [
    {
     "name": "stdout",
     "output_type": "stream",
     "text": [
      "10 20 0\n",
      "30\n"
     ]
    }
   ],
   "source": [
    "def add(val1,val2,val3=0):\n",
    "    print(val1,val2,val3)\n",
    "    return val1 + val2 + val3\n",
    "\n",
    "print(add(10,20))\n",
    "# print(add())\n"
   ]
  },
  {
   "cell_type": "code",
   "execution_count": 32,
   "metadata": {},
   "outputs": [
    {
     "name": "stdout",
     "output_type": "stream",
     "text": [
      "10\n",
      "Python\n"
     ]
    }
   ],
   "source": [
    "print(10)\n",
    "print(\"Python\")"
   ]
  },
  {
   "cell_type": "code",
   "execution_count": 31,
   "metadata": {},
   "outputs": [
    {
     "name": "stdout",
     "output_type": "stream",
     "text": [
      "Help on built-in function print in module builtins:\n",
      "\n",
      "print(...)\n",
      "    print(value, ..., sep=' ', end='\\n', file=sys.stdout, flush=False)\n",
      "    \n",
      "    Prints the values to a stream, or to sys.stdout by default.\n",
      "    Optional keyword arguments:\n",
      "    file:  a file-like object (stream); defaults to the current sys.stdout.\n",
      "    sep:   string inserted between values, default a space.\n",
      "    end:   string appended after the last value, default a newline.\n",
      "    flush: whether to forcibly flush the stream.\n",
      "\n"
     ]
    }
   ],
   "source": [
    "help(print)"
   ]
  },
  {
   "cell_type": "code",
   "execution_count": 40,
   "metadata": {},
   "outputs": [
    {
     "name": "stdout",
     "output_type": "stream",
     "text": [
      "100\n",
      "280\n",
      "0\n"
     ]
    }
   ],
   "source": [
    "def add(*args):\n",
    "    return sum(args)\n",
    "#     return val1 + val2 + val3\n",
    "\n",
    "print(add(10,20,30,40))\n",
    "print(add(10,20,30,40,50,60,70))\n",
    "print(add())\n",
    "# print(add())"
   ]
  },
  {
   "cell_type": "code",
   "execution_count": null,
   "metadata": {},
   "outputs": [],
   "source": [
    "PEP8"
   ]
  },
  {
   "cell_type": "code",
   "execution_count": 38,
   "metadata": {},
   "outputs": [
    {
     "name": "stdout",
     "output_type": "stream",
     "text": [
      "10 20 30 4 50 60 40 Python Hi\n"
     ]
    }
   ],
   "source": [
    "print(10,20,30,4,50,60,40,\"Python\",\"Hi\")"
   ]
  },
  {
   "cell_type": "code",
   "execution_count": 56,
   "metadata": {},
   "outputs": [
    {
     "name": "stdout",
     "output_type": "stream",
     "text": [
      "True\n",
      "True\n"
     ]
    }
   ],
   "source": [
    "def login(username,password):\n",
    "    if username ==\"abc\" and password == \"abc@1234\":\n",
    "        return True\n",
    "    else:\n",
    "        return False\n",
    "    \n",
    "print(login(\"abc\",\"abc@1234\"))\n",
    "print(login(password=\"abc@1234\",username=\"abc\"))"
   ]
  },
  {
   "cell_type": "code",
   "execution_count": 60,
   "metadata": {},
   "outputs": [
    {
     "name": "stdout",
     "output_type": "stream",
     "text": [
      "{'password': 'abc@1234', 'username': 'abc', 'age': 50, 'contact': '9123456789'}\n",
      "True\n"
     ]
    }
   ],
   "source": [
    "def login(**kwargs):\n",
    "    print(kwargs)\n",
    "    if kwargs.get('username') ==\"abc\" and kwargs.get('password') == \"abc@1234\":\n",
    "        return True\n",
    "    else:\n",
    "        return False\n",
    "    \n",
    "\n",
    "print(login(password=\"abc@1234\",username=\"abc\",age=50,contact=\"9123456789\"))"
   ]
  },
  {
   "cell_type": "code",
   "execution_count": 61,
   "metadata": {},
   "outputs": [
    {
     "name": "stdout",
     "output_type": "stream",
     "text": [
      "(10, 20, 30, 40, 50, 60, 70, 80, 90, 100) {'password': 'abc@1234', 'username': 'abc', 'age': 50, 'contact': '9123456789'}\n",
      "True\n"
     ]
    }
   ],
   "source": [
    "def login(num1,num2,*args,**kwargs):\n",
    "    print(args,kwargs)\n",
    "    if kwargs.get('username') ==\"abc\" and kwargs.get('password') == \"abc@1234\":\n",
    "        return True\n",
    "    else:\n",
    "        return False\n",
    "    \n",
    "\n",
    "print(login(10,20,30,40,50,60,70,80,90,100,password=\"abc@1234\",username=\"abc\",age=50,contact=\"9123456789\"))"
   ]
  },
  {
   "cell_type": "code",
   "execution_count": null,
   "metadata": {},
   "outputs": [],
   "source": [
    "1. positional : num arg in fun call and func def should be same , mapping => sequential \n",
    "2. Default : In func def assign default value to arg\n",
    "3. Var positional : *args => tuple packing mul values in func call and pack all into one tuple \n",
    "4. keyword args : in func call pass the args using the same names defined in func def \n",
    "5. Var length keywords  : in fun def **kwargs => dict => packing \n",
    "6. Unpacking "
   ]
  },
  {
   "cell_type": "code",
   "execution_count": 72,
   "metadata": {},
   "outputs": [
    {
     "name": "stdout",
     "output_type": "stream",
     "text": [
      "10 20 30\n",
      "60\n"
     ]
    }
   ],
   "source": [
    "def add(val1,val2,val3):\n",
    "    print(val1,val2,val3)\n",
    "    return val1+val2+val3\n",
    "\n",
    "# l = {\"val1\":10,\"val2\":20,\"val3\":30}\n",
    "l = {1:10,2:20,3:30}\n",
    "print(add(*l.values()))\n",
    "\n",
    "# add(val1 = 10,val2 = 20,val3 = 30)\n",
    "\n",
    "# 10,20,30,40,50, => *"
   ]
  },
  {
   "cell_type": "code",
   "execution_count": null,
   "metadata": {},
   "outputs": [],
   "source": [
    "*l => positional args\n",
    "**l => keyword args"
   ]
  },
  {
   "cell_type": "code",
   "execution_count": 75,
   "metadata": {},
   "outputs": [
    {
     "name": "stdout",
     "output_type": "stream",
     "text": [
      "10 20 30\n",
      "60\n"
     ]
    }
   ],
   "source": [
    "def add(val1,val2,val3):\n",
    "    print(val1,val2,val3)\n",
    "    return val1+val2+val3\n",
    "\n",
    "l = [10,20,30]\n",
    "print(add(*l))\n",
    "#add(10,20,30)"
   ]
  },
  {
   "cell_type": "code",
   "execution_count": 78,
   "metadata": {},
   "outputs": [
    {
     "ename": "TypeError",
     "evalue": "'val1' is an invalid keyword argument for this function",
     "output_type": "error",
     "traceback": [
      "\u001b[1;31m---------------------------------------------------------------------------\u001b[0m",
      "\u001b[1;31mTypeError\u001b[0m                                 Traceback (most recent call last)",
      "\u001b[1;32m<ipython-input-78-c02ed5cfb5af>\u001b[0m in \u001b[0;36m<module>\u001b[1;34m()\u001b[0m\n\u001b[0;32m      4\u001b[0m \u001b[1;33m\u001b[0m\u001b[0m\n\u001b[0;32m      5\u001b[0m \u001b[0ml\u001b[0m \u001b[1;33m=\u001b[0m \u001b[1;33m{\u001b[0m\u001b[1;34m\"val1\"\u001b[0m\u001b[1;33m:\u001b[0m\u001b[1;36m10\u001b[0m\u001b[1;33m,\u001b[0m\u001b[1;34m\"val3\"\u001b[0m\u001b[1;33m:\u001b[0m\u001b[1;36m30\u001b[0m\u001b[1;33m,\u001b[0m\u001b[1;34m\"val2\"\u001b[0m\u001b[1;33m:\u001b[0m\u001b[1;36m20\u001b[0m\u001b[1;33m}\u001b[0m\u001b[1;33m\u001b[0m\u001b[0m\n\u001b[1;32m----> 6\u001b[1;33m \u001b[0mprint\u001b[0m\u001b[1;33m(\u001b[0m\u001b[1;33m**\u001b[0m\u001b[0ml\u001b[0m\u001b[1;33m)\u001b[0m\u001b[1;33m\u001b[0m\u001b[0m\n\u001b[0m\u001b[0;32m      7\u001b[0m \u001b[0mprint\u001b[0m\u001b[1;33m(\u001b[0m\u001b[0madd\u001b[0m\u001b[1;33m(\u001b[0m\u001b[1;33m**\u001b[0m\u001b[0ml\u001b[0m\u001b[1;33m)\u001b[0m\u001b[1;33m)\u001b[0m\u001b[1;33m\u001b[0m\u001b[0m\n\u001b[0;32m      8\u001b[0m \u001b[1;31m#add(val1=10,val3=30,val4=20)\u001b[0m\u001b[1;33m\u001b[0m\u001b[1;33m\u001b[0m\u001b[0m\n",
      "\u001b[1;31mTypeError\u001b[0m: 'val1' is an invalid keyword argument for this function"
     ]
    }
   ],
   "source": [
    "def add(val1,val2,val3):\n",
    "    print(val1,val2,val3)\n",
    "    return val1+val2+val3\n",
    "\n",
    "l = {\"val1\":10,\"val3\":30,\"val2\":20}\n",
    "# print(**l)\n",
    "print(add(**l))\n",
    "#add(val1=10,val3=30,val4=20)"
   ]
  }
 ],
 "metadata": {
  "kernelspec": {
   "display_name": "Python 3",
   "language": "python",
   "name": "python3"
  },
  "language_info": {
   "codemirror_mode": {
    "name": "ipython",
    "version": 3
   },
   "file_extension": ".py",
   "mimetype": "text/x-python",
   "name": "python",
   "nbconvert_exporter": "python",
   "pygments_lexer": "ipython3",
   "version": "3.6.5"
  }
 },
 "nbformat": 4,
 "nbformat_minor": 2
}
