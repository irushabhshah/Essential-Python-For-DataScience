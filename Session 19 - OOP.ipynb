{
 "cells": [
  {
   "cell_type": "code",
   "execution_count": null,
   "metadata": {},
   "outputs": [],
   "source": [
    "class\n",
    "obj \n",
    "instance variable \n",
    "class variable \n",
    "private __\n",
    "class methods \n",
    "\n",
    "inheritance "
   ]
  },
  {
   "cell_type": "code",
   "execution_count": null,
   "metadata": {},
   "outputs": [],
   "source": [
    "class ClassName(Class2,class1)"
   ]
  },
  {
   "cell_type": "code",
   "execution_count": null,
   "metadata": {},
   "outputs": [],
   "source": [
    "MRO : method reso order  => depth left to right "
   ]
  },
  {
   "cell_type": "code",
   "execution_count": null,
   "metadata": {},
   "outputs": [],
   "source": [
    "class2    class1\n",
    "    className "
   ]
  },
  {
   "cell_type": "code",
   "execution_count": 9,
   "metadata": {},
   "outputs": [
    {
     "name": "stdout",
     "output_type": "stream",
     "text": [
      "{'_user_name': 'abc', '_password': 'abc@123', '_email': 'abc@xyz.com', 'github': 'www.github.com/abc', 'linkedin': 'www.linkedin.com/abc'}\n",
      "('abc', 'abc@123', 'abc@xyz.com', 'www.github.com/abc', 'www.linkedin.com/abc')\n",
      "abc\n"
     ]
    }
   ],
   "source": [
    "class User:\n",
    "    \n",
    "    users = []\n",
    "    count = 0\n",
    "    def __init__(self,username,password,email):\n",
    "        self._user_name = username\n",
    "        self._password = password\n",
    "        self._email = email\n",
    "        \n",
    "        User.users.append(self)\n",
    "        User.count+=1\n",
    "        \n",
    "    def update_name(self,name):\n",
    "        self.name = name\n",
    "        return self.name\n",
    "        \n",
    "    def update_contact_number(self,number):\n",
    "        self.contact_number = number\n",
    "        return self.contact_number\n",
    "    \n",
    "    def get_details(self):\n",
    "        return self._user_name,self._password,self._email\n",
    "    \n",
    "class Profile(User):\n",
    "    def __init__(self,username,password,email,github,linkedin):\n",
    "        super().__init__(username,password,email)\n",
    "        self.github = github\n",
    "        self.linkedin = linkedin\n",
    "        \n",
    "    def get_details(self):\n",
    "#         u,p,e = super().get_details()\n",
    "        return self._user_name,self._password,self._email,self.github,self.linkedin\n",
    "        \n",
    "        \n",
    " \n",
    "user1 = Profile(\"abc\",\"abc@123\",\"abc@xyz.com\",\"www.github.com/abc\",\"www.linkedin.com/abc\")\n",
    "# User(user1,\"abc\",\"abc@123\",\"abc@xyz.com\")\n",
    "print(user1.__dict__)\n",
    "print(user1.get_details())\n",
    "print(user1._user_name)\n",
    "\n"
   ]
  },
  {
   "cell_type": "code",
   "execution_count": 10,
   "metadata": {},
   "outputs": [
    {
     "name": "stdout",
     "output_type": "stream",
     "text": [
      "100\n"
     ]
    }
   ],
   "source": [
    "_num1 = 100\n",
    "print(_num1)"
   ]
  },
  {
   "cell_type": "code",
   "execution_count": null,
   "metadata": {},
   "outputs": [],
   "source": [
    "Course :\n",
    "    "
   ]
  },
  {
   "cell_type": "code",
   "execution_count": null,
   "metadata": {},
   "outputs": [],
   "source": [
    "1 Course there can many tutorials \n",
    "1 tutorial can be present in multiple courses "
   ]
  },
  {
   "cell_type": "code",
   "execution_count": null,
   "metadata": {},
   "outputs": [],
   "source": [
    "Course : \n",
    "    Name \n",
    "    Desc\n",
    "    Duration \n",
    "    Rating \n",
    "    Price \n",
    "    \n",
    "Tutorial :\n",
    "    Name\n",
    "    Content \n",
    "    course\n",
    "    \n",
    "    \n",
    "1. All the tutorials for course Python "
   ]
  },
  {
   "cell_type": "code",
   "execution_count": 22,
   "metadata": {},
   "outputs": [],
   "source": [
    "class Course:\n",
    "    def __init__(self,name,desc,duration,price):\n",
    "        self.c_name = name\n",
    "        self.desc = desc\n",
    "        self.duration = duration\n",
    "        self.rating = 0\n",
    "        self.price = price\n",
    "        \n",
    "        \n",
    "class Tutorial:\n",
    "    tutorials = []\n",
    "    def __init__(self,name,content,course):\n",
    "        self.t_name = name\n",
    "        self.content = content\n",
    "        self.course = course\n",
    "        \n",
    "        Tutorial.tutorials.append(self)\n",
    "        \n",
    "    def get_details(self):\n",
    "        return self.t_name,self.content,self.course.c_name\n",
    "    \n",
    "    def __add__(self,obj):\n",
    "        return self.t_name + obj.t_name\n",
    "        \n",
    "    "
   ]
  },
  {
   "cell_type": "code",
   "execution_count": 23,
   "metadata": {},
   "outputs": [],
   "source": [
    "c1 = Course(\"Python\",\"Python from start to end\",\"10 hrs\",750)\n",
    "c2 = Course(\"Machine Learning\",\"ML from start to end\",\"50 hrs\",7500)\n",
    "\n",
    "t1 = Tutorial(\"Python basics\",\"Python basics\",c1)\n",
    "t2 = Tutorial(\"Python loops\",\"Python loops\",c1)\n",
    "t3 = Tutorial(\"Python str\",\"Python str\",c1)\n",
    "t4 = Tutorial(\"Python list\",\"Python list\",c1)\n",
    "\n",
    "t5 = Tutorial(\"Numpy\",\"Numpy\",c2)\n",
    "t6 = Tutorial(\"Pandas\",\"Pandas\",c2)\n",
    "t7 = Tutorial(\"scikit-learn\",\"scikit-learn\",c2)\n",
    "t8 = Tutorial(\"stats\",\"stats\",c2)"
   ]
  },
  {
   "cell_type": "code",
   "execution_count": 25,
   "metadata": {},
   "outputs": [
    {
     "ename": "TypeError",
     "evalue": "must be str, not Tutorial",
     "output_type": "error",
     "traceback": [
      "\u001b[1;31m---------------------------------------------------------------------------\u001b[0m",
      "\u001b[1;31mTypeError\u001b[0m                                 Traceback (most recent call last)",
      "\u001b[1;32m<ipython-input-25-c44dbba1dfaf>\u001b[0m in \u001b[0;36m<module>\u001b[1;34m()\u001b[0m\n\u001b[1;32m----> 1\u001b[1;33m \u001b[0mprint\u001b[0m\u001b[1;33m(\u001b[0m\u001b[0mt1\u001b[0m \u001b[1;33m+\u001b[0m \u001b[0mt2\u001b[0m \u001b[1;33m+\u001b[0m \u001b[0mt3\u001b[0m \u001b[1;33m+\u001b[0m\u001b[0mt4\u001b[0m\u001b[1;33m)\u001b[0m\u001b[1;33m\u001b[0m\u001b[0m\n\u001b[0m",
      "\u001b[1;31mTypeError\u001b[0m: must be str, not Tutorial"
     ]
    }
   ],
   "source": [
    "print(t1 + t2 + t3 +t4)"
   ]
  },
  {
   "cell_type": "code",
   "execution_count": 13,
   "metadata": {},
   "outputs": [
    {
     "name": "stdout",
     "output_type": "stream",
     "text": [
      "[<__main__.Tutorial object at 0x00000282C04D49E8>, <__main__.Tutorial object at 0x00000282C04D4A20>, <__main__.Tutorial object at 0x00000282C04D49B0>, <__main__.Tutorial object at 0x00000282C04D4A58>, <__main__.Tutorial object at 0x00000282C04D4A90>, <__main__.Tutorial object at 0x00000282C04D4B00>, <__main__.Tutorial object at 0x00000282C04D4B38>, <__main__.Tutorial object at 0x00000282C04D4B70>]\n"
     ]
    }
   ],
   "source": [
    "print(Tutorial.tutorials)"
   ]
  },
  {
   "cell_type": "code",
   "execution_count": 17,
   "metadata": {},
   "outputs": [
    {
     "name": "stdout",
     "output_type": "stream",
     "text": [
      "('Python basics', 'Python basics', 'Python')\n",
      "('Python loops', 'Python loops', 'Python')\n",
      "('Python str', 'Python str', 'Python')\n",
      "('Python list', 'Python list', 'Python')\n"
     ]
    }
   ],
   "source": [
    "for tutorial in Tutorial.tutorials:\n",
    "    if tutorial.course.c_name == \"Python\":\n",
    "        print(tutorial.get_details())"
   ]
  },
  {
   "cell_type": "code",
   "execution_count": 18,
   "metadata": {},
   "outputs": [
    {
     "name": "stdout",
     "output_type": "stream",
     "text": [
      "[10, 20, 30, 40, 100, 200, 300, 400]\n"
     ]
    }
   ],
   "source": [
    "l1 = [10,20,30,40]\n",
    "l2 = [100,200,300,400]\n",
    "print(l1 + l2)"
   ]
  },
  {
   "cell_type": "code",
   "execution_count": 19,
   "metadata": {},
   "outputs": [
    {
     "name": "stdout",
     "output_type": "stream",
     "text": [
      "300\n"
     ]
    }
   ],
   "source": [
    "num1 = 100\n",
    "num2 = 200\n",
    "print(num1 + num2)"
   ]
  },
  {
   "cell_type": "code",
   "execution_count": 20,
   "metadata": {},
   "outputs": [
    {
     "name": "stdout",
     "output_type": "stream",
     "text": [
      "['__add__', '__class__', '__contains__', '__delattr__', '__delitem__', '__dir__', '__doc__', '__eq__', '__format__', '__ge__', '__getattribute__', '__getitem__', '__gt__', '__hash__', '__iadd__', '__imul__', '__init__', '__init_subclass__', '__iter__', '__le__', '__len__', '__lt__', '__mul__', '__ne__', '__new__', '__reduce__', '__reduce_ex__', '__repr__', '__reversed__', '__rmul__', '__setattr__', '__setitem__', '__sizeof__', '__str__', '__subclasshook__', 'append', 'clear', 'copy', 'count', 'extend', 'index', 'insert', 'pop', 'remove', 'reverse', 'sort']\n"
     ]
    }
   ],
   "source": [
    "print(dir(list))"
   ]
  },
  {
   "cell_type": "code",
   "execution_count": null,
   "metadata": {},
   "outputs": [],
   "source": [
    "Encapsulation : Class\n",
    "Data Hiding : Public,private and protected , Getters and setters \n",
    "Inheritance : \n",
    "Polymorphism : Method overriding \n",
    "               Method overloading \n",
    "               Operator overloading  "
   ]
  },
  {
   "cell_type": "code",
   "execution_count": 32,
   "metadata": {},
   "outputs": [
    {
     "name": "stdout",
     "output_type": "stream",
     "text": [
      "You can not divide by zero\n",
      "Hi python\n"
     ]
    }
   ],
   "source": [
    "try:\n",
    "    l = [10,20,30,40]\n",
    "    print(l[100])\n",
    "    print(10 / 0)\n",
    "except:\n",
    "    print(\"You can not divide by zero\")\n",
    "print(\"Hi python\")"
   ]
  },
  {
   "cell_type": "code",
   "execution_count": 37,
   "metadata": {},
   "outputs": [
    {
     "name": "stdout",
     "output_type": "stream",
     "text": [
      "Got something new at runtime  name 'a' is not defined\n",
      "Hi python\n"
     ]
    }
   ],
   "source": [
    "try:\n",
    "    print(a)\n",
    "    l = [10,20,30,40]\n",
    "    print(l[100])\n",
    "    print(10 / 0)\n",
    "    \n",
    "except ZeroDivisionError as e:\n",
    "    print(\"You can not divide by zero\",e)\n",
    "except IndexError as e:\n",
    "    print(\"Please provide valid index\",e)\n",
    "except Exception as e:\n",
    "    print(\"Got something new at runtime \",e)\n",
    "print(\"Hi python\")"
   ]
  },
  {
   "cell_type": "code",
   "execution_count": 34,
   "metadata": {},
   "outputs": [
    {
     "name": "stdout",
     "output_type": "stream",
     "text": [
      "['ArithmeticError', 'AssertionError', 'AttributeError', 'BaseException', 'BlockingIOError', 'BrokenPipeError', 'BufferError', 'BytesWarning', 'ChildProcessError', 'ConnectionAbortedError', 'ConnectionError', 'ConnectionRefusedError', 'ConnectionResetError', 'DeprecationWarning', 'EOFError', 'Ellipsis', 'EnvironmentError', 'Exception', 'False', 'FileExistsError', 'FileNotFoundError', 'FloatingPointError', 'FutureWarning', 'GeneratorExit', 'IOError', 'ImportError', 'ImportWarning', 'IndentationError', 'IndexError', 'InterruptedError', 'IsADirectoryError', 'KeyError', 'KeyboardInterrupt', 'LookupError', 'MemoryError', 'ModuleNotFoundError', 'NameError', 'None', 'NotADirectoryError', 'NotImplemented', 'NotImplementedError', 'OSError', 'OverflowError', 'PendingDeprecationWarning', 'PermissionError', 'ProcessLookupError', 'RecursionError', 'ReferenceError', 'ResourceWarning', 'RuntimeError', 'RuntimeWarning', 'StopAsyncIteration', 'StopIteration', 'SyntaxError', 'SyntaxWarning', 'SystemError', 'SystemExit', 'TabError', 'TimeoutError', 'True', 'TypeError', 'UnboundLocalError', 'UnicodeDecodeError', 'UnicodeEncodeError', 'UnicodeError', 'UnicodeTranslateError', 'UnicodeWarning', 'UserWarning', 'ValueError', 'Warning', 'WindowsError', 'ZeroDivisionError', '__IPYTHON__', '__build_class__', '__debug__', '__doc__', '__import__', '__loader__', '__name__', '__package__', '__spec__', 'abs', 'all', 'any', 'ascii', 'bin', 'bool', 'bytearray', 'bytes', 'callable', 'chr', 'classmethod', 'compile', 'complex', 'copyright', 'credits', 'delattr', 'dict', 'dir', 'display', 'divmod', 'enumerate', 'eval', 'exec', 'filter', 'float', 'format', 'frozenset', 'get_ipython', 'getattr', 'globals', 'hasattr', 'hash', 'help', 'hex', 'id', 'input', 'int', 'isinstance', 'issubclass', 'iter', 'len', 'license', 'list', 'locals', 'map', 'max', 'memoryview', 'min', 'next', 'object', 'oct', 'open', 'ord', 'pow', 'print', 'property', 'range', 'repr', 'reversed', 'round', 'set', 'setattr', 'slice', 'sorted', 'staticmethod', 'str', 'sum', 'super', 'tuple', 'type', 'vars', 'zip']\n"
     ]
    }
   ],
   "source": [
    "print(dir(__builtin__))"
   ]
  },
  {
   "cell_type": "code",
   "execution_count": 41,
   "metadata": {},
   "outputs": [
    {
     "name": "stdout",
     "output_type": "stream",
     "text": [
      "Got a user defined exception current value is 75\n"
     ]
    }
   ],
   "source": [
    "class ValueLessThan50(Exception):\n",
    "     pass\n",
    "\n",
    "\n",
    "num = 75\n",
    "\n",
    "try:\n",
    "    if num < 100:\n",
    "        raise ValueLessThan50(\"current value is {}\".format(num))\n",
    "except ValueLessThan50 as e:\n",
    "    print(\"Got a user defined exception\",e)"
   ]
  },
  {
   "cell_type": "code",
   "execution_count": 43,
   "metadata": {},
   "outputs": [
    {
     "name": "stdout",
     "output_type": "stream",
     "text": [
      "Got something new at runtime  name 'a' is not defined\n",
      "Hi python\n"
     ]
    }
   ],
   "source": [
    "try:\n",
    "    print(a)\n",
    "    try:\n",
    "        l = [10,20,30,40]\n",
    "        print(l[100])\n",
    "        print(10 / 0)\n",
    "    except:\n",
    "        print(\"DO something\")\n",
    "\n",
    "except ZeroDivisionError as e:\n",
    "    print(\"You can not divide by zero\",e)\n",
    "except IndexError as e:\n",
    "    print(\"Please provide valid index\",e)\n",
    "except Exception as e:\n",
    "    print(\"Got something new at runtime \",e)\n",
    "finally:\n",
    "    print(\"Hi python\")"
   ]
  },
  {
   "cell_type": "code",
   "execution_count": null,
   "metadata": {},
   "outputs": [],
   "source": [
    "l1 + l2"
   ]
  }
 ],
 "metadata": {
  "kernelspec": {
   "display_name": "Python 3",
   "language": "python",
   "name": "python3"
  },
  "language_info": {
   "codemirror_mode": {
    "name": "ipython",
    "version": 3
   },
   "file_extension": ".py",
   "mimetype": "text/x-python",
   "name": "python",
   "nbconvert_exporter": "python",
   "pygments_lexer": "ipython3",
   "version": "3.6.5"
  }
 },
 "nbformat": 4,
 "nbformat_minor": 2
}
